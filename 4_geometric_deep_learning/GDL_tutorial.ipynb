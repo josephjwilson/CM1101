{
  "cells": [
    {
      "cell_type": "markdown",
      "source": [
        "<!-- <img src=\"https://drive.google.com/uc?id=1oX9Tos0RxySyQuzz035udVCoL6UJWO8x\" height=\"50\" /> -->\n",
        "<img src=\"https://drive.google.com/uc?id=1bNRbR2lTNYAcjdYB0TEMIOKrpHQhtm5u\" height=\"50\" />\n"
      ],
      "metadata": {
        "id": "a-KY9hPOj7Jz"
      }
    },
    {
      "cell_type": "markdown",
      "source": [
        "**Here are the authors.** Do reach out to us for any queries or feedback!\n",
        "\n",
        "* Viktor Mirjanic (vvm22@cam.ac.uk) \\\\\n",
        "* Iulia Duta (id366@cam.ac.uk)\n",
        "\n",
        "\n",
        "**Abstract:** This tutorial is designed to be a stand-alone introduction into the Graph Neural Network world. You will learn about the basics of working with graph data, implementing a standard Graph Network architecture and understand more about current challenges and open research problems in the field such as rewiring and positional encoding.\n",
        "\n",
        "\n",
        "**Outline:**\n",
        "\n",
        "The tutorial is structured as follow:\n",
        "1.   Implement both a sparse and a dense version of **Graph Convolutional Network in Pytorch**.\n",
        "2.   Write a training pipeline for graph inputs including **graph-level representation** and **custom mini-batching**.\n",
        "3. Improve the Graph Convolutional Network using attention mechanisms - **Graph Attention Network**.\n",
        "4. Make our first steps into **Pytorch Geometric**, a library dedicated to geometric deep learning.\n",
        "5. Re-implement **Graph Attention Network in Pytorch Geometric**.\n",
        "6. Understand the **over-squashing challenge** and experiment with **two graph rewiring techniques**: Graph Transformer and Expander Graph Propagation.\n",
        "7. Explore various **positional encodings** for graph data.\n"
      ],
      "metadata": {
        "id": "5KgbGnPp-gkM"
      }
    },
    {
      "cell_type": "markdown",
      "source": [
        " ❗ Note: While a GPU is not mandatory for this tutorial, we recommend using it to speed up the training. You can do this by clicking `Runtime -> Change runtime type`, and set the hardware accelerator to GPU."
      ],
      "metadata": {
        "id": "G8LYCIB0RJtc"
      }
    },
    {
      "cell_type": "markdown",
      "source": [
        "## 😴 Preliminaries: Install, import and other modules"
      ],
      "metadata": {
        "id": "lKxFuNjpAeVz"
      }
    },
    {
      "cell_type": "code",
      "execution_count": null,
      "source": [
        "# @title [RUN] Install required python libraries\n",
        "!pip install -q networkx\n",
        "!pip install -q mycolorpy\n",
        "!pip install -q colorama\n",
        "!pip install torch==2.1.0\n",
        "!pip install -q torch-geometric\n",
        "\n",
        "import os\n",
        "import torch\n",
        "os.environ['TORCH'] = torch.__version__\n",
        "!pip install -q pyg_lib torch_scatter torch_sparse -f https://data.pyg.org/whl/torch-${TORCH}.html\n",
        "\n",
        "!sudo apt-get install -qq graphviz graphviz-dev\n",
        "!pip install -q pygraphviz\n"
      ],
      "outputs": [],
      "metadata": {
        "cellView": "form",
        "id": "u-lbFF3r08Um"
      }
    },
    {
      "cell_type": "code",
      "execution_count": null,
      "source": [
        "# @title [RUN] Import modules\n",
        "import sys\n",
        "import time\n",
        "import math\n",
        "import random\n",
        "import itertools\n",
        "from typing import Mapping, Tuple, Sequence, List\n",
        "\n",
        "import pandas as pd\n",
        "import networkx as nx\n",
        "import numpy as np\n",
        "import scipy as sp\n",
        "from scipy.stats import ortho_group\n",
        "from scipy.linalg import block_diag\n",
        "\n",
        "import pdb\n",
        "\n",
        "import torch\n",
        "import torch.nn.functional as F\n",
        "from torch.optim import Adam\n",
        "from torch.nn import Embedding, Linear, ReLU, BatchNorm1d, Module, ModuleList, Sequential, Parameter, LayerNorm\n",
        "from torch import Tensor\n",
        "from torch_scatter import scatter, scatter_mean, scatter_max, scatter_sum\n",
        "\n",
        "import torch_geometric\n",
        "from torch_geometric.data import Data, Batch\n",
        "from torch_geometric.loader import DataLoader\n",
        "import torch_geometric.transforms as T\n",
        "from torch_geometric.transforms import BaseTransform\n",
        "from torch_geometric.utils import remove_self_loops, to_dense_adj, dense_to_sparse, softmax, get_laplacian, cumsum, add_self_loops\n",
        "from torch_geometric.utils.convert import to_scipy_sparse_matrix\n",
        "from torch_geometric.nn import MessagePassing, global_mean_pool, global_add_pool\n",
        "# from torch_scatter import scatter, scatter_mean, scatter_max, scatter_sum\n",
        "\n",
        "from torch_geometric.nn.inits import glorot\n",
        "\n",
        "from sklearn.metrics import accuracy_score, roc_auc_score\n",
        "\n",
        "import matplotlib.pyplot as plt\n",
        "import seaborn as sns\n",
        "import matplotlib.cm as cm\n",
        "\n",
        "from google.colab import files\n",
        "from IPython.display import HTML\n",
        "\n",
        "from numpy.linalg import eig, eigh\n",
        "\n",
        "DEVICE = torch.device(\"cuda\" if torch.cuda.is_available() else \"cpu\")"
      ],
      "outputs": [],
      "metadata": {
        "cellView": "form",
        "id": "R7Xw6Me_NRQ9"
      }
    },
    {
      "cell_type": "code",
      "execution_count": null,
      "source": [
        "# @title [RUN] Helper functions for plots and visualisations\n",
        "\n",
        "\n",
        "def draw_one_graph(ax, edges, label=None, node_emb=None, layout=None,\n",
        "                   special_color=False, pos=None):\n",
        "    \"\"\"draw a graph with networkx based on adjacency matrix (edges)\n",
        "    graph labels could be displayed as a title for each graph\n",
        "    node_emb could be displayed in colors\n",
        "    \"\"\"\n",
        "    graph = nx.Graph()\n",
        "    edges = zip(edges[0], edges[1])\n",
        "    graph.add_edges_from(edges)\n",
        "    if layout == 'custom':\n",
        "      node_pos = pos\n",
        "    elif layout == 'tree':\n",
        "      node_pos=nx.nx_agraph.graphviz_layout(graph, prog='dot')\n",
        "    else:\n",
        "      node_pos = layout(graph)\n",
        "    #add colors according to node embeding\n",
        "    if (node_emb is not None) or special_color:\n",
        "        color_map = []\n",
        "        node_list = [node[0] for node in graph.nodes(data = True)]\n",
        "        for i,node in enumerate(node_list):\n",
        "            #just ignore this branch\n",
        "            if special_color:\n",
        "                if len(node_list) == 3:\n",
        "                    crt_color = (1,0,0)\n",
        "                elif len(node_list) == 5:\n",
        "                    crt_color = (0,1,0)\n",
        "                elif len(node_list) == 4:\n",
        "                    crt_color = (1,1,0)\n",
        "                else:\n",
        "                  special_list = [(1,0,0)] * 3 + [(0,1,0)] * 5 + [(1,1,0)] * 4\n",
        "                  crt_color = special_list[i]\n",
        "            else:\n",
        "                crt_node_emb = node_emb[node]\n",
        "                #map float number (node embeding) to a color\n",
        "                crt_color = cm.gist_rainbow(crt_node_emb, bytes=True)\n",
        "                crt_color = (crt_color[0]/255.0, crt_color[1]/255.0, crt_color[2]/255.0, crt_color[3]/255.0)\n",
        "            color_map.append(crt_color)\n",
        "\n",
        "        nx.draw_networkx_nodes(graph,node_pos, node_color=color_map,\n",
        "                        nodelist = node_list, ax=ax)\n",
        "        nx.draw_networkx_edges(graph, node_pos, ax=ax)\n",
        "        nx.draw_networkx_labels(graph,node_pos, ax=ax)\n",
        "    else:\n",
        "        nx.draw_networkx(graph, node_pos, ax=ax)\n",
        "\n",
        "def gallery(graphs, labels=None, node_emb=None, special_color=False, max_graphs=4, max_fig_size=(40, 10), layout=nx.layout.kamada_kawai_layout):\n",
        "    ''' Draw multiple graphs as a gallery\n",
        "    Args:\n",
        "      graphs: torch_geometrics.dataset object/ List of Graph objects\n",
        "      labels: num_graphs\n",
        "      node_emb: num_graphs* [num_nodes x num_ch]\n",
        "      max_graphs: maximum graphs display\n",
        "    '''\n",
        "    num_graphs = min(len(graphs), max_graphs)\n",
        "    ff, axes = plt.subplots(1, num_graphs,\n",
        "                            figsize=max_fig_size,\n",
        "                            subplot_kw={'xticks': [], 'yticks': []})\n",
        "    if num_graphs == 1:\n",
        "        axes = [axes]\n",
        "    if node_emb is None:\n",
        "        node_emb = num_graphs*[None]\n",
        "    if labels is None:\n",
        "        labels = num_graphs * [\" \"]\n",
        "\n",
        "\n",
        "    for i in range(num_graphs):\n",
        "        draw_one_graph(axes[i], graphs[i].edge_index.numpy(), labels[i], node_emb[i], layout, special_color,\n",
        "                            pos=graphs[i].pos)\n",
        "        if labels[i] != \" \":\n",
        "            axes[i].set_title(f\"Target: {labels[i]}\", fontsize=28)\n",
        "        axes[i].set_axis_off()\n",
        "    plt.show()\n",
        "\n",
        "def draw_one_tree(data):\n",
        "    \"\"\"draw a tree with networkx\n",
        "    this function is only used to display the tree\n",
        "    objects from the synthetic datasets\n",
        "    \"\"\"\n",
        "    edges = data.edge_index.detach().cpu().numpy()\n",
        "    feats = data.x.detach().cpu().numpy()\n",
        "\n",
        "    graph = nx.DiGraph()\n",
        "    edges = zip(edges[0], edges[1])\n",
        "    graph.add_edges_from(edges)\n",
        "    graph = graph.reverse()\n",
        "\n",
        "    node_pos=nx.nx_agraph.graphviz_layout(graph, prog='dot')\n",
        "\n",
        "    labels = dict()\n",
        "    for i,node in enumerate(graph.nodes):\n",
        "        labels[node] = f\"{feats[node,0]}, {feats[node,1]}\"\n",
        "\n",
        "\n",
        "    colors = [0.5 for node in graph.nodes()]\n",
        "    for i,node in enumerate(graph.nodes):\n",
        "      if feats[node,0] != 0 and feats[node,1] == 0:\n",
        "        colors[i] = 0.25\n",
        "    #add colors according to node embeding\n",
        "    nx.draw_networkx(graph, node_pos, node_size=500, labels=labels,\n",
        "                     cmap=plt.get_cmap('Pastel1'), node_color=colors)\n",
        "\n",
        "\n",
        "\n",
        "def plot_results(perf_per_epoch):\n",
        "  df_results = pd.DataFrame(perf_per_epoch,\n",
        "    columns=[\"Test AUC\", \"Val AUC\", \"Test loss\",\n",
        "             \"Val loss\", \"Train loss\", \"Epoch\", \"Model\"])\n",
        "  p = sns.lineplot(x=\"Epoch\", y=\"Val AUC\", hue=\"Model\", data=df_results)\n",
        "  plt.show()\n",
        "  p = sns.lineplot(x=\"Epoch\", y=\"Test AUC\", hue=\"Model\", data=df_results)\n",
        "  plt.show()\n",
        "\n",
        "def get_color_coded_str(i, color):\n",
        "    return \"\\033[3{}m{}\\033[0m\".format(int(color), int(i))\n",
        "\n",
        "\n",
        "def print_color_numpy(map, list_graphs):\n",
        "    \"\"\" print matrix map in color according to list_graphs\n",
        "    \"\"\"\n",
        "    list_blocks = []\n",
        "    total_num_nodes = 0\n",
        "    for i,graph in enumerate(list_graphs):\n",
        "        block_i = (i+1)*np.ones((graph.num_nodes,graph.num_nodes))\n",
        "        list_blocks += [block_i]\n",
        "        total_num_nodes += graph.num_nodes\n",
        "    block_color = block_diag(*list_blocks)\n",
        "\n",
        "    map_modified = np.vectorize(get_color_coded_str)(map, block_color)\n",
        "\n",
        "    colored_matrix = \"\\n\".join([\" \".join([\"{}\"]*total_num_nodes)]*total_num_nodes).format(*[x for y in map_modified.tolist() for x in y])\n",
        "    print(colored_matrix)\n",
        "\n",
        "def update_stats(training_stats, epoch_stats):\n",
        "    \"\"\" Store metrics along the training\n",
        "    Args:\n",
        "      epoch_stats: dict containg metrics about one epoch\n",
        "      training_stats: dict containing lists of metrics along training\n",
        "    Returns:\n",
        "      updated training_stats\n",
        "    \"\"\"\n",
        "    if training_stats is None:\n",
        "        training_stats = {}\n",
        "        for key in epoch_stats.keys():\n",
        "            training_stats[key] = []\n",
        "    for key,val in epoch_stats.items():\n",
        "        training_stats[key].append(val)\n",
        "    return training_stats\n",
        "\n",
        "def plot_stats(training_stats, figsize=(5, 5), name=\"\"):\n",
        "    \"\"\" Create one plot for each metric stored in training_stats\n",
        "    \"\"\"\n",
        "    stats_names = [key[6:] for key in training_stats.keys() if key.startswith('train_')]\n",
        "    f, ax = plt.subplots(len(stats_names), 1, figsize=figsize)\n",
        "    if len(stats_names)==1:\n",
        "        ax = np.array([ax])\n",
        "    for key, axx in zip(stats_names, ax.reshape(-1,)):\n",
        "        axx.plot(\n",
        "            training_stats['epoch'],\n",
        "            training_stats[f'train_{key}'],\n",
        "            label=f\"Training {key}\")\n",
        "        axx.plot(\n",
        "            training_stats['epoch'],\n",
        "            training_stats[f'val_{key}'],\n",
        "            label=f\"Validation {key}\")\n",
        "        axx.set_xlabel(\"Training epoch\")\n",
        "        axx.set_ylabel(key)\n",
        "        axx.legend()\n",
        "    plt.title(name)\n"
      ],
      "outputs": [],
      "metadata": {
        "cellView": "form",
        "id": "yzE7HwUvoaUv"
      }
    },
    {
      "cell_type": "code",
      "execution_count": null,
      "source": [
        "# @title [RUN] Helper functions for generating synthetic data\n",
        "\n",
        "# code based on: https://jhuow.fun/posts/barbell_graph/\n",
        "def one_barbell_graph(n_clique, n_path):\n",
        "  clique1 = nx.complete_graph(n_clique)\n",
        "  clique1_pos = nx.circular_layout(clique1)\n",
        "  clique2 = nx.complete_graph(n_clique)\n",
        "  clique2_mapping = {node: node + n_clique for node in clique2}\n",
        "  nx.relabel_nodes(clique2, clique2_mapping, copy=False) # avoids repeated nodes\n",
        "  x_diff, y_diff = 8, -1\n",
        "  clique2_pos = {node: clique1_pos[node-n_clique] + (x_diff, y_diff) for node in clique2}\n",
        "  path = nx.path_graph(n_path)\n",
        "  path_mapping = {node: node + 2 * n_clique for node in path}\n",
        "  nx.relabel_nodes(path, path_mapping, copy=False) # avoids repeated nodes\n",
        "  path_nodes = list(path.nodes)\n",
        "  path_half1_nodes = path_nodes[:n_path//2]\n",
        "  path_half2_nodes = path_nodes[n_path//2:]\n",
        "  path_dist = 0.9\n",
        "  clique2_entry = n_clique + n_clique // 2\n",
        "  path_half1_pos = {node: clique1_pos[0] + (path_dist + i * path_dist, 0) for i, node in enumerate(path_half1_nodes)}\n",
        "  path_half2_pos = {node: clique2_pos[clique2_entry] - (path_dist + i * path_dist, 0) for i, node in enumerate(path_half2_nodes[::-1])}\n",
        "  path_pos = {**path_half1_pos, **path_half2_pos}\n",
        "  barbell = nx.Graph()\n",
        "  barbell.add_edges_from(clique1.edges)\n",
        "  barbell.add_edges_from(clique2.edges)\n",
        "  barbell.add_edges_from(path.edges)\n",
        "  barbell.add_edges_from([(path_half1_nodes[0], 0), (path_half2_nodes[-1], clique2_entry)])\n",
        "  clique_pos = {**clique1_pos, **clique2_pos}\n",
        "  barbell_pos = {**clique_pos, **path_pos}\n",
        "  barbell_dict = {}\n",
        "  for k,v in barbell_pos.items():\n",
        "    barbell_dict[k] = {\"pos\":v}\n",
        "  nx.set_node_attributes(barbell, barbell_dict)\n",
        "  return barbell\n",
        "\n",
        "# code inspired by https://github.com/lrnzgiusti/on-oversquashing\n",
        "def generate_barbell_graph(m1, m2, target_label):\n",
        "    \"\"\"\n",
        "    Generate a barbell graph.\n",
        "\n",
        "    Args:\n",
        "    - m1:\n",
        "    - m2:\n",
        "    - target_label\n",
        "\n",
        "    Returns:\n",
        "    - Data: Torch geometric data structure containing graph details.\n",
        "    \"\"\"\n",
        "    barbell_graph = one_barbell_graph(m1, m2)\n",
        "    nodes = 2 * m1 + m2\n",
        "    # Initialize node features. The first node gets 0s, while the last gets the target label\n",
        "    x = np.ones((nodes, len(target_label)))\n",
        "    x[0, :] = 0.0\n",
        "    x[nodes - 1, :] = target_label\n",
        "    x = torch.tensor(x, dtype=torch.float32)\n",
        "\n",
        "    edge_index = torch.tensor(list(barbell_graph.edges())).T\n",
        "\n",
        "    # Create a mask to indicate the target node (in this case, the first node)\n",
        "    mask = torch.zeros(nodes, dtype=torch.bool)\n",
        "    mask[0] = 1\n",
        "\n",
        "    # Convert the one-hot encoded target label to its corresponding class index\n",
        "    y = torch.tensor([np.argmax(target_label)], dtype=torch.long)\n",
        "\n",
        "    return Data(x=x, edge_index=edge_index, mask=mask, y=y, pos=nx.get_node_attributes(barbell_graph, 'pos'))\n",
        "\n",
        "\n",
        "# The code for generating the tree dataset is based on:\n",
        "# https://github.com/tech-srl/bottleneck\n",
        "import math\n",
        "class TreeDataset(object):\n",
        "    def __init__(self, depth):\n",
        "        super(TreeDataset, self).__init__()\n",
        "        self.depth = depth\n",
        "        self.num_nodes, self.edges, self.leaf_indices = self._create_blank_tree()\n",
        "        # self.criterion = F.cross_entropy\n",
        "\n",
        "    def add_child_edges(self, cur_node, max_node):\n",
        "        edges = []\n",
        "        leaf_indices = []\n",
        "        stack = [(cur_node, max_node)]\n",
        "        while len(stack) > 0:\n",
        "            cur_node, max_node = stack.pop()\n",
        "            if cur_node == max_node:\n",
        "                leaf_indices.append(cur_node)\n",
        "                continue\n",
        "            left_child = cur_node + 1\n",
        "            right_child = cur_node + 1 + ((max_node - cur_node) // 2)\n",
        "            edges.append([left_child, cur_node])\n",
        "            edges.append([right_child, cur_node])\n",
        "            stack.append((right_child, max_node))\n",
        "            stack.append((left_child, right_child - 1))\n",
        "        return edges, leaf_indices\n",
        "\n",
        "    def _create_blank_tree(self):\n",
        "        max_node_id = 2 ** (self.depth + 1) - 2\n",
        "        edges, leaf_indices = self.add_child_edges(cur_node=0, max_node=max_node_id)\n",
        "        return max_node_id + 1, edges, leaf_indices\n",
        "\n",
        "    def create_blank_tree(self, add_self_loops=True):\n",
        "        edge_index = torch.tensor(self.edges).t()\n",
        "        if add_self_loops:\n",
        "            edge_index, _ = torch_geometric.utils.add_remaining_self_loops(edge_index=edge_index, )\n",
        "        return edge_index\n",
        "\n",
        "    def generate_data(self, transform=None, add_self_loops=True):\n",
        "        data_list = []\n",
        "\n",
        "        for comb in self.get_combinations():\n",
        "            edge_index = self.create_blank_tree(add_self_loops=add_self_loops)\n",
        "            nodes = torch.tensor(self.get_nodes_features(comb), dtype=torch.long)\n",
        "            root_mask = torch.tensor([True] + [False] * (len(nodes) - 1))\n",
        "            label = self.label(comb)\n",
        "            graph = Data(x=nodes, edge_index=edge_index, root_mask=root_mask, y=label)\n",
        "            if transform:\n",
        "              graph = transform(graph)\n",
        "            data_list.append(graph)\n",
        "\n",
        "        dim0, out_dim = self.get_dims()\n",
        "        return data_list, dim0, out_dim\n",
        "        # X_train, X_test = train_test_split(\n",
        "            # data_list, train_size=train_fraction, shuffle=True, stratify=[data.y for data in data_list])\n",
        "\n",
        "\n",
        "        # return X_train, X_test, dim0, out_dim, self.criterion\n",
        "\n",
        "    # Every sub-class should implement the following methods:\n",
        "    def get_combinations(self):\n",
        "        raise NotImplementedError\n",
        "\n",
        "    def get_nodes_features(self, combination):\n",
        "        raise NotImplementedError\n",
        "\n",
        "    def label(self, combination):\n",
        "        raise NotImplementedError\n",
        "\n",
        "    def get_dims(self):\n",
        "        raise NotImplementedError\n",
        "\n",
        "class DictionaryLookupDataset(TreeDataset):\n",
        "    def __init__(self, depth):\n",
        "        super(DictionaryLookupDataset, self).__init__(depth)\n",
        "\n",
        "    def get_combinations(self):\n",
        "        # returns: an iterable of [key, permutation(leaves)]\n",
        "        # number of combinations: (num_leaves!)*num_choices\n",
        "        num_leaves = len(self.leaf_indices)\n",
        "        num_permutations = 1000\n",
        "        max_examples = 8000\n",
        "\n",
        "        if self.depth > 3:\n",
        "            per_depth_num_permutations = min(num_permutations, math.factorial(num_leaves), max_examples // num_leaves)\n",
        "            permutations = [np.random.permutation(range(1, num_leaves + 1)) for _ in\n",
        "                            range(per_depth_num_permutations)]\n",
        "        else:\n",
        "            permutations = random.sample(list(itertools.permutations(range(1, num_leaves + 1))),\n",
        "                                         min(num_permutations, math.factorial(num_leaves)))\n",
        "\n",
        "        return itertools.chain.from_iterable(\n",
        "\n",
        "            zip(range(1, num_leaves + 1), itertools.repeat(perm))\n",
        "            for perm in permutations)\n",
        "\n",
        "    def get_nodes_features(self, combination):\n",
        "        # combination: a list of indices\n",
        "        # Each leaf contains a one-hot encoding of a key, and a one-hot encoding of the value\n",
        "        # Every other node is empty, for now\n",
        "        selected_key, values = combination\n",
        "\n",
        "        # The root is [one-hot selected key] + [0 ... 0]\n",
        "        nodes = [ (selected_key, 0) ]\n",
        "\n",
        "        for i in range(1, self.num_nodes):\n",
        "            if i in self.leaf_indices:\n",
        "                leaf_num = self.leaf_indices.index(i)\n",
        "                node = (leaf_num+1, values[leaf_num])\n",
        "            else:\n",
        "                node = (0, 0)\n",
        "            nodes.append(node)\n",
        "        return nodes\n",
        "\n",
        "    def label(self, combination):\n",
        "        selected_key, values = combination\n",
        "        return int(values[selected_key - 1])\n",
        "\n",
        "    def get_dims(self):\n",
        "        # get input and output dims\n",
        "        in_dim = len(self.leaf_indices)\n",
        "        out_dim = len(self.leaf_indices)\n",
        "        return in_dim, out_dim"
      ],
      "outputs": [],
      "metadata": {
        "cellView": "form",
        "id": "5Q6RyEaZ1IoB"
      }
    },
    {
      "cell_type": "code",
      "execution_count": null,
      "source": [
        "#@title [RUN] Set random seed for deterministic results\n",
        "def seed(seed=0):\n",
        "    random.seed(seed)\n",
        "    np.random.seed(seed)\n",
        "    torch.manual_seed(seed)\n",
        "    torch.cuda.manual_seed(seed)\n",
        "    torch.cuda.manual_seed_all(seed)\n",
        "    torch.backends.cudnn.deterministic = True\n",
        "    torch.backends.cudnn.benchmark = False\n",
        "\n",
        "seed(0)"
      ],
      "outputs": [],
      "metadata": {
        "cellView": "form",
        "id": "KM4ynsEfVTZM"
      }
    },
    {
      "cell_type": "markdown",
      "source": [
        "# <font color=green> 🔨 [Basic] **Towards Implementing our own Graph Neural Network** </font>"
      ],
      "metadata": {
        "id": "97XbufFzYVQO"
      }
    },
    {
      "cell_type": "markdown",
      "source": [
        "\n",
        "Graphs are very general data structures, which can represent a wide variety of natural phenomena. Mathematically, a graph is a tuple $G = (V, E)$ where\n",
        "- $V$ is a set of vertices or **nodes** representing some entities\n",
        "- $E$ is a set of **edges** between nodes representing pairwise relationship between entities.\n",
        " <!-- There is always at most one edge from node $u$ to $v$. -->\n",
        "\n",
        "Graphs can be **directed** or **undirected**. A graph is undirected if edge from $u$ to $v$ exists if and only if a \"backwards\" edge from $v$ to $u$ also exists.\n",
        "\n",
        "A **neighborhood** of a node $u$ is the set ${N}_u=\\lbrace v\\ | \\left(u,v\\right)\\in E\\rbrace$ of all nodes $v$ directly connected to $u$.\n",
        "\n",
        "There exist different ways to store the edges of a graph:\n",
        "- As an **adjacency matrix** $\\mathbf{A}$, a $|V|\\times|V|$ matrix such that $\\mathbf{A}_{ij}=1$ if there is an edge between $i$th and $j$th node, and $0$ otherwise.\n",
        "- As an **edge list** $\\mathbf{E}$, a $2\\times |E|$ matrix storing start and end indices of each edge.\n",
        "\n",
        "Note that the order of vertices and edges is in principle arbitrary, but we have to decide on one to store the graph in memory.\n",
        "\n"
      ],
      "metadata": {
        "id": "Fu7fs6IZYVQg"
      }
    },
    {
      "cell_type": "markdown",
      "source": [
        "🔎 Let's look at an example graph:\n",
        "\n",
        "<image src=\"https://upload.wikimedia.org/wikipedia/commons/thumb/5/5b/6n-graf.svg/2560px-6n-graf.svg.png\" height=\"150px\">\n",
        "\n",
        "_(Image source: Wikipedia)_\n",
        "\n",
        "It has 6 nodes and 7 edges. However, because it is _undirected_, we will be storing 14 entries!\n",
        "\n",
        "\n",
        "Its edge list is:\n",
        "$$\\mathbf{E}=\\begin{pmatrix}\n",
        "1\\ 2\\ 1\\ 5\\ 2\\ 5\\ 2\\ 3\\ 3\\ 4\\ 4\\ 5\\ 4\\ 6 \\\\\n",
        "2\\ 1\\ 5\\ 1\\ 5\\ 2\\ 3\\ 2\\ 4\\ 3\\ 5\\ 4\\ 6\\ 4\n",
        "\\end{pmatrix}$$\n",
        "\n",
        "and its adjacency matrix is:\n",
        "\n",
        "$$\\mathbf{A}=\\begin{pmatrix}\n",
        "0\\ {\\color{red}{1}}\\ 0\\ 0\\ {\\color{red}{1}}\\ 0 \\\\\n",
        "{\\color{red}{1}}\\ 0\\ {\\color{red}{1}}\\ 0\\ {\\color{red}{1}}\\ 0 \\\\\n",
        "0\\ {\\color{red}{1}}\\ 0\\ {\\color{red}{1}}\\ 0\\ 0 \\\\\n",
        "0\\ 0\\ {\\color{red}{1}}\\ 0\\ {\\color{red}{1}}\\ {\\color{red}{1}} \\\\\n",
        "{\\color{red}{1}}\\ {\\color{red}{1}}\\ 0\\ {\\color{red}{1}}\\ 0\\ 0 \\\\\n",
        "0\\ 0\\ 0\\ {\\color{red}{1}}\\ 0\\ 0\n",
        "\\end{pmatrix}$$\n",
        "\n",
        "Note that as the graph is undirected, $\\mathbf{A}$ is symmetrical along the main diagonal. Also, note that the main diagonal of $\\mathbf{A}$ is zero because the graph does not have *self-loops* (i.e. edges connecting a node to itself $u\\to u$).\n",
        "\n",
        "The neighborhood of node $2$ is $N_2 =\\{1,3,5\\}$."
      ],
      "metadata": {
        "id": "LspRQOdgYVQg"
      }
    },
    {
      "cell_type": "markdown",
      "source": [
        "## Problem Setup"
      ],
      "metadata": {
        "id": "J-OWdKGpYVQh"
      }
    },
    {
      "cell_type": "markdown",
      "source": [
        "The diversity of tasks involving graph data led to the development of three major type of problems:\n",
        "\n",
        "- **Node prediction**: we require on target for each node. *e.g. what is the topic of a paper given a citation network of papers?*\n",
        "- **Link (edge) prediction**: we require on target for each pair of nodes. *e.g. are two people in a social network friends?*\n",
        "- **Graph prediction**: we require a single target for the entire graph. *e.g. is this protein molecule (represented as a graph) likely going to be effective?*\n",
        "\n",
        "<image src=\"https://storage.googleapis.com/dm-educational/assets/graph-nets/graph_tasks.png\" width=\"700px\">\n",
        "\n",
        "_(Image source: Petar Veličković)_\n",
        "\n"
      ],
      "metadata": {
        "id": "jB-cMp4bYVQh"
      }
    },
    {
      "cell_type": "markdown",
      "source": [
        "In this part of the tutorial, we will work with the ZINC12K benchmark - a dataset containing about 12k molecules. Our goal is to predict, for each molecule, its \"constrained solubility\". This is a <ins> graph regression </ins> task as we need to predict a single value per graph.\n",
        "\n",
        "Let's load the data. It might take a while 🫖 :\n"
      ],
      "metadata": {
        "id": "ZZWIp1IxYVQh"
      }
    },
    {
      "cell_type": "code",
      "execution_count": null,
      "source": [
        "from torch_geometric.datasets import ZINC\n",
        "\n",
        "train_ds = ZINC(root='data/ZINC', split='train', subset=True)\n",
        "val_ds = ZINC(root='data/ZINC', split='val', subset=True)\n",
        "test_ds = ZINC(root='data/ZINC', split='test', subset=True)"
      ],
      "outputs": [],
      "metadata": {
        "id": "Gwt4MTnGYVQh"
      }
    },
    {
      "cell_type": "markdown",
      "source": [
        "Now let's look at one molecule from the dataset:"
      ],
      "metadata": {
        "id": "PJOljVmSYVQi"
      }
    },
    {
      "cell_type": "code",
      "execution_count": null,
      "source": [
        "sample = train_ds[0]\n",
        "gallery([sample], max_fig_size=(4, 6))"
      ],
      "outputs": [],
      "metadata": {
        "id": "y5rlsmcgYVQi"
      }
    },
    {
      "cell_type": "markdown",
      "source": [
        "Graphs in ZINC have only one input feature - the atom's id, which is stored in `graph.x`. This molecule has 29 atoms (we can inspect this by looking at the `graph.num_nodes` attribute) and 64 edges (information stored in `graph.num_edges`).\n",
        "\n",
        "The graph connectivity is represented as an edge list `graph.edge_index`, a $2\\times |E|$ tensor containing starting nodes in the first row, and ending nodes in the second. This sparse representation has benefits that we will explore in a later section. For now, let's quickly convert this list into an adjacency matrix. We will store this dense representation in `graph.adj`.\n",
        "\n",
        "❗️Note: the molecule also has _edge features_ stored in `graph.edge_attr`, which, for simplicity, we will ignore  in this part of the tutorial."
      ],
      "metadata": {
        "id": "zVQC9NN5YVQi"
      }
    },
    {
      "cell_type": "code",
      "execution_count": null,
      "source": [
        "from torch_geometric.utils import to_torch_coo_tensor\n",
        "\n",
        "sample_adj = Data(x=sample.x, adj=to_torch_coo_tensor(sample.edge_index).to_dense())\n",
        "print(\"The matrix containing the node features has shape: \", sample_adj.x.shape)\n",
        "print(\"The adjacency matrix has shape: \", sample_adj.adj.shape)"
      ],
      "outputs": [],
      "metadata": {
        "id": "JFcyRzroYVQi"
      }
    },
    {
      "cell_type": "markdown",
      "source": [
        "## Graph Convolutional Network"
      ],
      "metadata": {
        "id": "cq9dvgwuYVQi"
      }
    },
    {
      "cell_type": "markdown",
      "source": [
        "As a first step in modeling our graph-shaped molecule, we will construct a [Graph Convolutional Network](https://arxiv.org/abs/1609.02907) (GCN) layer."
      ],
      "metadata": {
        "id": "zzvEG8QEYVQi"
      }
    },
    {
      "cell_type": "markdown",
      "source": [
        " The GCN is comparable to convolutional layers on image data, with one significant difference. Images are uniformly structured - its pixels are always ordered into a grid - and that allows convolutional layers to apply kernels on local patches. Following the assumption that pixels that are close in space should be correlated, a classical Convolutional Neural Network aggregates information from a local $D \\times H$ patch.\n",
        "\n",
        "Unlike pixels in images, nodes doesn't have a position in space. However, we can develop a similar intuition: nodes that are connected to each other in the graph should be more correlated than distant nodes. So, just like the kernels of Convolutional Neural Network are _local_ operations, we want our graph layers to respect the graph topology in a similar way. **Nodes that are close to each other according to the graph topology, should influence the representation more than the far away nodes.**\n",
        "<!-- Thus, GNN layers need to take graph adjacency into account.  -->\n",
        "\n",
        "<img src=\"https://drive.google.com/uc?id=1_4_7ivJqy6etS_CdO3fUPiZStVpN2_9L\" height=\"200\" />\n",
        "\n",
        "\n"
      ],
      "metadata": {
        "id": "6ysADiXDYVQi"
      }
    },
    {
      "cell_type": "markdown",
      "source": [
        "For a graph $\\mathbf{G}$ with $n$ nodes and $e$ edges, suppose we start with input node features $\\mathbf{X}_{n\\times d}$ and the adjacency matrix $\\mathbf{A}_{n\\times n}$. Let's consider the following operation:\n",
        "\n",
        "$$\n",
        "\\mathbf{H} = \\sigma \\big( \\mathbf{A} \\mathbf{X} \\mathbf{W} \\big)\n",
        "$$\n",
        "\n",
        "where $\\mathbf{W}_{d\\times d'}$ are trainable weights, $\\mathbf{H}_{n\\times d'}$ are output node features, and $\\sigma$ is a pointwise non-linearity.\n",
        "\n",
        "<a name=\"node-level-gcn\"></a>\n",
        "On a per-node level, we can re-write this layer as\n",
        "\n",
        "$$\n",
        "\\mathbf{h_i} = \\sigma \\big( \\sum_{j \\in \\mathbf{N}_i} \\mathbf{x_j}\\mathbf{W}\\big)\n",
        "$$\n",
        "\n",
        "\n",
        "where $\\mathbf{N}_i$ denotes the neighbourhood of node $i$.\n",
        "\n",
        "<font color = red> ✍ **Exercise:** Convince yourself that these two equations really mean the same thing!.\n",
        "\n",
        "\n"
      ],
      "metadata": {
        "id": "A7ZJpjzjYVQi"
      }
    },
    {
      "cell_type": "markdown",
      "source": [
        "\n",
        "<!--\n",
        "<img src=\"https://drive.google.com/uc?id=1UFS_7ZWEnMpLb_2dp05-22GIuBJVn_c_\" height=\"300\" /> -->\n",
        "\n",
        "<img src=\"https://drive.google.com/uc?id=1ns-VqvfqANw3gtXpqWQwtdJmBQxXXsRk\" height=\"300\"/>\n"
      ],
      "metadata": {
        "id": "y6jfoSnoYVQi"
      }
    },
    {
      "cell_type": "markdown",
      "source": [
        "Observe how this simple layer **respects the graph topology** by only exchanging information between neighboring nodes via the adjacency matrix. This is perfectly in line with our requirements: a model in which **neighbours influence the representation more than the far away nodes**. Moreover, it nicely mirrors the Convolutional Network, where instead of the local image patches we are now aggregating neighbourhoods.\n",
        "\n",
        "This layer has some problems, though. Graph nodes may have different degrees, possibly leading to numerical instabilities during training. To alleviate it, the [Graph Convolutional Network (GCN)](https://arxiv.org/abs/1609.02907) model introduces _symmetric normalization_:\n",
        "\n",
        "$$\n",
        "\\mathbf{H}_\\text{GCN} = \\sigma \\big( \\mathbf{\\tilde{D}}^{-\\frac{1}{2}} \\mathbf{\\tilde{A}} \\mathbf{\\tilde{D}}^{-\\frac{1}{2}} \\mathbf{X} \\mathbf{W} \\big)\n",
        "$$\n",
        "\n",
        "In this equation, $\\mathbf{\\tilde{A}}=\\mathbf{A}+\\mathbf{I}$ represent the adjacency matrix  enriched with self-loops (edges that connect a node with itself), and $\\mathbf{\\tilde{D}}$ is the degree matrix, a diagonal matrix containing degrees of $\\mathbf{\\tilde{A}}$,  $\\mathbf{\\tilde{D}}_{ii} = \\sum_j \\mathbf{\\tilde{A}}_{ij}$ .\n",
        "\n",
        "<font color = red> ✍ **Exercise:** Think about how can you write down the node-level action of this normalised GCN. What does adding $\\mathbf{D}$ change in [this equation](#node-level-gcn)?\n",
        "\n"
      ],
      "metadata": {
        "id": "Ppof2XK8YVQi"
      }
    },
    {
      "cell_type": "markdown",
      "source": [
        "## <font color = orange> 🖋 **Task** Implement the symmetric normalization for the GCN layer using PyTorch.\n",
        "\n",
        "> We expect you to implement $\\mathbf{\\tilde{D}}^{-\\frac{1}{2}} \\mathbf{\\tilde{A}} \\mathbf{\\tilde{D}}^{-\\frac{1}{2}}$ as used in the GCN Layer\n",
        ">\n",
        "> 🆘 **Hint:** you may assume that the initial adjacency A does not have self-edges\n"
      ],
      "metadata": {
        "id": "G6GawNjEYVQi"
      }
    },
    {
      "cell_type": "code",
      "execution_count": null,
      "source": [
        "class GCNLayer(Module):\n",
        "\n",
        "  def __init__(self, in_channels, out_channels):\n",
        "    \"\"\"\n",
        "    One layer of Graph Convolutional Network (GCN)\n",
        "    using the dense adjacency matrix\n",
        "\n",
        "    Args:\n",
        "        in_channels: (int) - input dimension\n",
        "        out_channels: (int) - output dimension\n",
        "    \"\"\"\n",
        "    super(GCNLayer, self).__init__()\n",
        "    self.linear = Linear(in_channels, out_channels)\n",
        "\n",
        "  def forward(self, x, A):\n",
        "    \"\"\"\n",
        "    Args:\n",
        "        x: (n, in_dim) - initial node features\n",
        "        A: (n, n) - adjacency matrix\n",
        "\n",
        "    Returns:\n",
        "        out: (n, out_dim) - updated node features\n",
        "    \"\"\"\n",
        "    # ============ YOUR CODE HERE ==============\n",
        "    # Compute the normalised adjacency matrix\n",
        "    # as denoted by the equation above\n",
        "    #\n",
        "    # Atilde = ...\n",
        "    # Dtilde = ...\n",
        "    # adj_norm = ...\n",
        "    #\n",
        "    # ===========================================\n",
        "\n",
        "    x = self.linear(x)\n",
        "    out = adj_norm @ x\n",
        "    return out"
      ],
      "outputs": [],
      "metadata": {
        "id": "PDg41GtAYVQj"
      }
    },
    {
      "cell_type": "markdown",
      "source": [
        "We will also create a simple model that uses our GCNLayer:"
      ],
      "metadata": {
        "id": "pKnglfMDYVQj"
      }
    },
    {
      "cell_type": "code",
      "execution_count": null,
      "source": [
        "class SimpleGCN(Module):\n",
        "  def __init__(self):\n",
        "    \"\"\"\n",
        "    A GNN model applying one GCN layers, to create graph-level representation\n",
        "\n",
        "    \"\"\"\n",
        "    super().__init__()\n",
        "    hidden = 64\n",
        "    self.embed = Embedding(28, hidden)  # There are 28 different atoms in ZINC\n",
        "    self.gcn = GCNLayer(hidden, 1)\n",
        "\n",
        "  def forward(self, data):\n",
        "    \"\"\"\n",
        "    Args:\n",
        "        data: (PyG.Data) - one graph from the dataset\n",
        "\n",
        "    Returns:\n",
        "        out: (float) - a scalar representing the output for the entire graph\n",
        "    \"\"\"\n",
        "    x = data.x\n",
        "    A = data.adj\n",
        "\n",
        "    x = self.embed(x).squeeze(1)\n",
        "    x = F.relu(x)\n",
        "    x = self.gcn(x, A)\n",
        "\n",
        "    # ============ YOUR CODE HERE ==============\n",
        "    # (For Task 3)\n",
        "    # return ...\n",
        "    # ==================================\n",
        "\n",
        "    return torch.sum(x)\n",
        "\n",
        "\n",
        "simple_gcn_model = SimpleGCN()"
      ],
      "outputs": [],
      "metadata": {
        "id": "Ej_-Vv0lYVQj"
      }
    },
    {
      "cell_type": "markdown",
      "source": [
        "Let's apply our GCN network to our sample graph (the result should be a single number):"
      ],
      "metadata": {
        "id": "AtiIkv72YVQj"
      }
    },
    {
      "cell_type": "code",
      "execution_count": null,
      "source": [
        "simple_gcn_model(sample_adj).detach().numpy()"
      ],
      "outputs": [],
      "metadata": {
        "id": "RR3a_HIZYVQj"
      }
    },
    {
      "cell_type": "markdown",
      "source": [
        "## Permutation Invarance and Equivariance"
      ],
      "metadata": {
        "id": "Wo_zKXGBYVQj"
      }
    },
    {
      "cell_type": "markdown",
      "source": [
        "In the previous section we introduced the GCN layer in a hands-on way, by comparing it to convolutional layers used in image processing. Now, let's take a step back and think about the high level effect these layers have and why we would want them.\n",
        "\n",
        "The two main concepts we will use to analyse the behavior of these layers are **invariance** and **equivariance**.\n",
        "\n",
        "Suppose we want to detect whether a cat is in an image. The classifier should behave the same whether the cat is in the top-left, center, or right. Thus, it should be **invariant** to the **translation** of the image.\n",
        "On the other hand, suppose we want to identify the _coordinates_ of a cat in the image. Then, the network should follow along with the image transformations - it should be **equivariant** to **translation**.\n",
        "CNNs, by having weight sharing through use of kernels, enforce **translation equivariance** on the network. If needed for our task, we can then convert equivariance into invariance by pooling the entire image into a single output.\n",
        "\n",
        "\n"
      ],
      "metadata": {
        "id": "-00TOI-KYVQj"
      }
    },
    {
      "cell_type": "markdown",
      "source": [
        "Now, lets turn to graphs.\n",
        "\n",
        "On graphs we have no left, right, or up, so we cannot talk about translation symmetries of GNNs. But.. do you remember in the begining of this tutorial when we  had to <ins> randomly </ins> pick an order of the nodes in order to store them in memory? Since this is an arbitrary choice, we want our model to be invariant/equivariant to this decision.\n",
        "\n",
        "We call this permutation invariance / permutation equivariance. A GNN is permutation invariant if, no mather how we permute the nodes the outoput doesn't change. On the other hand, a GNN is permutation equivariant if, by permuting the input, the output will permute in the same way. Generally, if our model outputs a graph-level representation we expect it to be permutation invariant. On the other hand, if the task prediction is at the node-level, the model should be permutation equivariant.\n",
        "\n",
        "<!-- However, we can describe their _permutation_ symmetries, by whether or not they \"respect\" the adjacency matrix. - Iulia: I disagree with this sentence -->\n",
        "\n",
        "Let's make this more formal.\n",
        "\n",
        "<!-- We will say that a CNN network $\\mathbf{F}$ is equivariant with respect to translation $\\tau$ if it satisfies\n",
        "\n",
        "$$\n",
        "\\mathbf{F}\\left(\\tau\\left(\\mathbf{X}\\right)\\right)=\\tau\\left(\\mathbf{F}\\left(\\mathbf{X}\\right)\\right)\n",
        "$$\n",
        "\n",
        "Similarly, a network $f$ is translation invariant if this holds instead:\n",
        "\n",
        "$$\n",
        "f\\left(\\tau \\left(\\mathbf{X}\\right)\\right)=f\\left(\\mathbf{X}\\right)\n",
        "$$ -->\n",
        "\n",
        "A GNN $\\mathbf{f}$ is **permutation invariant** with respect to permutation matrix $\\mathbf{P}$ if\n",
        "\n",
        "$$\n",
        "\\mathbf{f}\\left(\\mathbf{X}, \\mathbf{A}\\right)=\\mathbf{f}\\left(\\mathbf{P}\\mathbf{X}, \\mathbf{P}\\mathbf{A}\\mathbf{P}^\\intercal\\right)\n",
        "$$\n",
        "\n",
        "A GNN $\\mathbf{f}$ is **permutation equivariant** with respect to permutation matrix $\\mathbf{P}$ if\n",
        "\n",
        "$$\n",
        "\\mathbf{P}\\mathbf{f}\\left(\\mathbf{X}, \\mathbf{A}\\right)=\\mathbf{f}\\left(\\mathbf{P}\\mathbf{X}, \\mathbf{P}\\mathbf{A}\\mathbf{P}^\\intercal\\right)\n",
        "$$\n",
        "\n",
        "\n",
        "\n",
        "Note how we have to transform the adjacency matrix as well as node features. Why?\n",
        "\n",
        "As we mentione before, tasks on graphs typically don't depend on node ordering. That's why, when designing GNNs, **it is crucial to ensure that our layers fulfill these properties**.\n",
        "\n",
        "<!-- The reason we focus on these properties is that they appear in the real world: image classification tasks are already translation invariant by design, and tasks on graphs typically don't depend on node ordering, which makes them permutation equivariant. Thus, by making these properties explicit, and **by encoding them directly into our architecture**, we obtain models that are aligned with our tasks. -->"
      ],
      "metadata": {
        "id": "ec5xUFFgYVQj"
      }
    },
    {
      "cell_type": "markdown",
      "source": [
        "## <font color = orange> 🖋 **Task** Write a unit test to check that the SimpleGCN is permutation invariant.\n",
        "\n",
        "> Since on ZINC we predict one value per entire graph, the output should be permutation invariant. We will now test the permutation invariance of our simple model. All you need to do is to permute our sample graph. If everything is correct, SimpleGCN should output the same result for both the original and permuted molecule.\n",
        "\n",
        "\n",
        "\n",
        "\n"
      ],
      "metadata": {
        "id": "vDVqbLHNYVQj"
      }
    },
    {
      "cell_type": "code",
      "execution_count": null,
      "source": [
        "def test_permutation(graph):\n",
        "  # torch.random.manual_seed(42)\n",
        "  # np.random.seed(42)\n",
        "\n",
        "  perm = np.random.permutation(graph.x.shape[0])\n",
        "\n",
        "  permuted_graph = Data(\n",
        "  # ============ YOUR CODE HERE ==============\n",
        "  # Permute the features and the adjacency matrix according to perm\n",
        "  #\n",
        "  # x = ...\n",
        "  # adj = ...\n",
        "  #\n",
        "  # ===========================================\n",
        "      )\n",
        "\n",
        "\n",
        "  assert torch.allclose(\n",
        "\n",
        "  # ============ YOUR CODE HERE ==============\n",
        "  # (For Task 3)\n",
        "  # Change the following lines to\n",
        "  # accomodate permutation equivariance\n",
        "  # ==================================\n",
        "\n",
        "    simple_gcn_model(graph),\n",
        "    simple_gcn_model(permuted_graph)\n",
        "    ), \"Your model is not permutation invariant :(\"\n",
        "  print(\"Success: Your GCN model is permutation invariant by construction!\")\n",
        "\n",
        "test_permutation(sample_adj)"
      ],
      "outputs": [],
      "metadata": {
        "id": "3BZY_tnYYVQj"
      }
    },
    {
      "cell_type": "markdown",
      "source": [
        "## <font color = orange> 🖋 **Task** Modify the `SimpleGCN` to produce node-level as opposed to aggregated graph-level features.  Check that it <ins> breaks permutation invariance </ins> test and edit the test to check for permutation <ins> equivariance</ins> instead.\n",
        "\n",
        "\n",
        "> Feel free to experiment with `SimpleGCN` and `GCNLayer` as we won't be using them beyond this point.\n",
        ">\n",
        "> 🆘 **Hint:** You need to edit only one line in both SimpleGCN and test_permutation for this task!\n"
      ],
      "metadata": {
        "id": "-8RsyC4vYVQj"
      }
    },
    {
      "cell_type": "code",
      "execution_count": null,
      "source": [
        "# There is no extra code for this task - go back and edit SimpleGCN and test_permutation!"
      ],
      "outputs": [],
      "metadata": {
        "id": "SOdFWF7PYVQj"
      }
    },
    {
      "cell_type": "markdown",
      "source": [
        "<font color = red> ✍ **Exercise:** Based on the formal definition, prove that GCN layer is permutation equivariant. (**Hint:** Which matrices commute?)"
      ],
      "metadata": {
        "id": "0fYoNbEuYVQj"
      }
    },
    {
      "cell_type": "markdown",
      "source": [
        "## From Dense to Sparse Adjacency Matrix </font>"
      ],
      "metadata": {
        "id": "uwzL5bwBYVQj"
      }
    },
    {
      "cell_type": "markdown",
      "source": [
        "The GCN layer we implemented above works correctly, but it is _inefficient_. Remember how we decided to use an adjacency matrix? This means that we created a $29\\times 29$ matrix with only $64$ nonzero entries! Real-world graphs are often sparse, and we need to utilize their sparsity to save memory. (As we will see in the next section, with batching this effect becomes evein more pronounced.)\n",
        "\n",
        "To accomplish this, we will now work directly with the provided `edge_index` matrix, without converting it into an adjacency matrix. Luckily, there are tools that will make this process easy!\n",
        "\n",
        "Our main tool is the `scatter_sum` operator from [`torch_scatter`](https://pytorch-scatter.readthedocs.io/en/latest/index.html). A classical `torch.sum` takes two arguments and contracts a tensor by computing $\\text{torch.sum}\\left(\\mathbf{A}, \\text{dim}\\right)=\\sum_i \\mathbf{A}\\lbrack\\dots, \\underbrace{i}_{\\text{dim}}, \\dots\\rbrack$. On the other hand, `scatter_sum` takes a third argument, `index`. The operation will first group the elements based on the indices represented in `index`, then sum-aggregate the elements in each group.\n",
        "\n",
        "$$\n",
        "\\text{scatter_sum}\\left(\\mathbf{A},\\text{index},\\text{dim}\\right)\n",
        "\\lbrack\\dots, \\underbrace{j}_{\\text{dim}}, \\dots\\rbrack = \\sum_i \\mathbf{A}\\lbrack\\dots, \\underbrace{i}_{\\text{dim}}, \\dots\\rbrack \\text{, where } \\text{index}\\lbrack i\\rbrack = j\n",
        "$$\n",
        "\n",
        "Let's look at an example:\n",
        "\n",
        "<img src=\"https://drive.google.com/uc?id=1gVBor-F077c7U3rdFv2ddrOxu_UiAmre\" height=\"150\"/>\n",
        "\n",
        "<!-- <img src=\"https://raw.githubusercontent.com/rusty1s/pytorch_scatter/master/docs/source/_figures/add.svg?sanitize=true\" width=\"300\">\n",
        "\n",
        "_(Image source: https://pytorch-scatter.readthedocs.io/en/latest/functions/scatter.html)_ -->\n",
        "\n",
        "The purpose of `scatter_sum` therefore is to aggregate groups of values in parallel, such as when summing over node neighborhoods in GCN!\n",
        "Other `scatter_*` operations exist, including `scatter_mean` or `scatter_max`, which acts on a similar fashion, but perform a different operations on the selected groups.\n",
        "\n",
        "The scatter sum has, loosely speaking, a one-sided inverse<a name=\"cite_ref-1\"></a>[<sup>[1]</sup>](#cite_note-1) called `torch.index_select`, which is also useful for creating GNN layers. Where `scatter_sum` _reduced_ tensor size by _aggregating_ entries based on index, `index_select` _increases_ size by _copying_ them. The operation it performs is:\n",
        "\n",
        "$$\n",
        "\\text{index_select}\\left(\\mathbf{A},\\text{index},\\text{dim}\\right)\n",
        "\\lbrack\\dots, \\underbrace{i}_{\\text{dim}}, \\dots\\rbrack = \\mathbf{A}\\lbrack\\dots, \\underbrace{\\text{index}\\lbrack i \\rbrack}_{\\text{dim}}, \\dots\\rbrack\n",
        "$$\n",
        "\n",
        "where $i$ now ranges over $\\text{index}$ and not over dimension $\\text{dim}$ of\n",
        "$\\mathbf{A}$.\n",
        "\n",
        "<img src=\"https://drive.google.com/uc?id=1AZ2ABSwVIY7sJo2KXofxXFR5Vb-cHK91\" height=\"150\"/>\n",
        "\n",
        "<a name=\"cite_note-1\"></a>1. [^](#cite_ref-1) This is not entirely true. What `scatter_*` operation is `torch.index_select` actually an inverse of, and under which conditions?"
      ],
      "metadata": {
        "id": "pu5V9RoqYVQj"
      }
    },
    {
      "cell_type": "markdown",
      "source": [
        "Lets see it in practice:"
      ],
      "metadata": {
        "id": "IO9zzYvzYVQk"
      }
    },
    {
      "cell_type": "code",
      "execution_count": null,
      "source": [
        "# group and aggregate elements based on group index\n",
        "array = torch.tensor([88, 15, 10, 7, 24, 30, 9])\n",
        "index = torch.tensor([0,1,1,1,2,0,1])\n",
        "agg_sum = scatter_sum(array, index=index, dim=0)\n",
        "print(f\"The results of scatter sum is {agg_sum}\")\n",
        "\n",
        "# select elements based on array index\n",
        "array = torch.tensor([88, 15, 10, 7, 24, 30, 9])\n",
        "index = torch.tensor([1, 1, 0, 2, 5, 4])\n",
        "selected_array = torch.index_select(array, index=index, dim=0)\n",
        "print(f\"The selected elements are {selected_array}\")\n"
      ],
      "outputs": [],
      "metadata": {
        "id": "xpv9Oz7hYVQk"
      }
    },
    {
      "cell_type": "markdown",
      "source": [
        "## <font color = orange> 🖋 **Task** Implement the same GCN as before, but using the sparse representation of the edges.\n",
        "\n",
        "> This is not an easy task, but we will guide you step by step.\n",
        ">\n",
        "> The equation of a symmetrically-normalised GCN, represented at the node-level is:\n",
        ">\n",
        "> $$\n",
        "\\mathbf{h_i} =  \\sum_{j \\in \\mathbf{N}_i} \\frac{1}{\\sqrt{d_id_j}}\\mathbf{x_j}\\mathbf{W}\n",
        "$$\n",
        "> where $d_i$ represents the degree of node $i$ and $N_i$ is the neighbourhood of node $i$ including self-loops.\n",
        ">\n",
        "> Our function will receive:\n",
        "-  `x`: a $n \\times f$ matrix\n",
        "-  `edge_index`: a $2 \\times e$ matrix.\n",
        "\n"
      ],
      "metadata": {
        "id": "4PhDiGzZYVQk"
      }
    },
    {
      "cell_type": "markdown",
      "source": [
        "> **Step 1:** Compute the degree vector $\\mathbf{d}$ using the `edge_index` representation. To achieve this we will start with a vector full of ones $\\mathbf{1}_e$ and group-sum them based on the list of source nodes stored in `edge_index[0]`. This way we will add 1 to $\\mathbf{d}[i]$ whenever the node is identify as the source node of an edge\n",
        "\n"
      ],
      "metadata": {
        "id": "Ax3wSkElYVQk"
      }
    },
    {
      "cell_type": "code",
      "execution_count": null,
      "source": [
        "# Step 1: compute the degree vector\n",
        "\n",
        "# edge_index[0][k] represent the source node of edge k\n",
        "# edge_index[1][k] represent the destination node of edge k\n",
        "edge_index = torch.tensor([[0,1,1,2,2,3], [1,0,2,1,3,2]]) # 2xe tensor\n",
        "d = torch.ones_like(edge_index[0]) # 2xe tensor\n",
        "\n",
        "# ============ YOUR CODE HERE ==============\n",
        "# d = ..  # 1xn tensor\n",
        "# ===========================================\n",
        "\n",
        "assert(torch.allclose(d, torch.tensor([1,2,2,1]), atol=1e-6))\n"
      ],
      "outputs": [],
      "metadata": {
        "id": "ei5BdkgZYVQk"
      }
    },
    {
      "cell_type": "markdown",
      "source": [
        " > **Step 2:** For each edge `(edge_index[0][k], edge_index[1][k])` compute the normalising coefficient $\\frac{1}{\\sqrt{\\textbf{d}\\text{[edge_index[0][k]]}\\textbf{d}\\text{[edge_index[1][k]]}}}$. To achieve that we form a vector $d_i$ of dimension $e$ in which $d_i[k]$ containing the degree of node `edge_index[0][k]`. Similarly vector $d_j[k]$ containing the degree of node `edge_index[1][k]`. We can easily achieve this by index-selecting from $\\mathbf{d}$ based on `edge_index[0]` and `edge_index[1]` respectively. The final normalising coefficient should be obtain as an element-wise operation between the vectors $d_i$ and $d_j$: $c = 1/\\sqrt{d_i d_j}$.\n"
      ],
      "metadata": {
        "id": "wwbKByolYVQk"
      }
    },
    {
      "cell_type": "code",
      "execution_count": null,
      "source": [
        "# Step 2: compute the normalising coefficients\n",
        "\n",
        "edge_index = torch.tensor([[0,1,1,2,2,3], [1,0,2,1,3,2]]) # 2xe tensor\n",
        "# d[i] represent the degree of node i\n",
        "d = torch.tensor([1,2,2,1]) # 1xn tensor\n",
        "\n",
        "# ============ YOUR CODE HERE ==============\n",
        "# for each edge k extract from d the degree of the the source node edge_index[0][k]\n",
        "# Hint: index_select might come handy\n",
        "# d_j = ..    # ex1 tensor\n",
        "\n",
        "# for each edge k extract from d the degree of the the destination node edge_index[1][k]\n",
        "# d_i = ..    # ex1 tensor\n",
        "\n",
        "\n",
        "# c_ij = ...  # ex1 tensor\n",
        "# ===========================================\n",
        "\n",
        "assert(torch.allclose(c_ij, torch.tensor([[0.7071],[0.7071],[0.5000],[0.5000],[0.7071],[0.7071]]), atol=1e-6))"
      ],
      "outputs": [],
      "metadata": {
        "id": "2Af2THtCYVQk"
      }
    },
    {
      "cell_type": "markdown",
      "source": [
        "> **Step 3:** For each edge `(edge_index[0][k], edge_index[1][k])` we compute the \"message\" between $j$=`edge_index[0][k]` and $i$=`edge_index[1][k]` as $\\frac{1}{\\sqrt{d_i d_j}}\\mathbf{x_j}\\mathbf{W}$. To do this we create the vector $x_j$ containing for each edge the representation of the source node (we can easily do that by index selecting from x using the list of source nodes `edge_index[0]`, linearly projecting it than rescale it using our precomputed normalising scalars `c` from Step 2.\n",
        "\n",
        "<!-- >To avoid creating the full adjacency matrix, we will _lift_ our $n\\times d$ node features to $|E|\\times d$, normalize them, and then reduce them back to nodes.\n",
        ">\n",
        ">In the code below, for each edge $e_{ij}$, features corresponding to start node are stored in `x_j`, while those corresponding to end node are in `x_i`. (This way we are consistent with the [node-level representation of GCN](#node-level-gcn))\n",
        ">\n",
        ">How can you compute $\\mathbf{D}$ from `edge_index` directly?\n",
        ">\n",
        ">🆘 Hint: you will need to use both `index_select` and `scatter_sum` multiple times in this task. -->"
      ],
      "metadata": {
        "id": "oCtBMzCMYVQk"
      }
    },
    {
      "cell_type": "code",
      "execution_count": null,
      "source": [
        "# Step 3: compute the messages from i to j\n",
        "\n",
        "edge_index = torch.tensor([[0,1,1,2,2,3], [1,0,2,1,3,2]]) # 2xe tensor\n",
        "# c[k] represent the normalisation coefficient  1/sqrt(di[k]dj[k])\n",
        "c = torch.tensor([[0.7071],[0.7071],[0.5000],[0.5000],[0.7071],[0.7071]]) # ex1 tensor\n",
        "# x represent the input features\n",
        "x = torch.ones(4,2)     # nxf tensor\n",
        "\n",
        "linear_W = Linear(2, 3)\n",
        "\n",
        "# ============ YOUR CODE HERE ==============\n",
        "# linearly project the node features\n",
        "# x = ..    # nxf' tensor\n",
        "#\n",
        "# for each edge k select as a message x_j\n",
        "# this is equivalent to selecting from x based on the source nodes edge_index[0]\n",
        "# x_j = ..    # exf' tensor\n",
        "#\n",
        "# normalise the representation x_j using coefficients c_ij\n",
        "# x_j = ..\n",
        "#\n",
        "# ==========================================="
      ],
      "outputs": [],
      "metadata": {
        "id": "LDg82u1wYVQk"
      }
    },
    {
      "cell_type": "markdown",
      "source": [
        "> **Step 4:** For each node, aggregate the received messages using sum aggregator."
      ],
      "metadata": {
        "id": "z71gYuEbYVQk"
      }
    },
    {
      "cell_type": "code",
      "execution_count": null,
      "source": [
        "edge_index = torch.tensor([[0,1,1,2,2,3], [1,0,2,1,3,2]]) # 2xe tensor\n",
        "# m_ij represent the messages between i and j\n",
        "m_ij = torch.ones(6,3)  # exf' tensor\n",
        "\n",
        "# ============ YOUR CODE HERE ==============\n",
        "# for each node aggregate the messages coming from its neighbour\n",
        "# we ca have access the neighbourhood information in edge_index[1]\n",
        "# Hint: scatter_sum might be useful\n",
        "#\n",
        "# out = ..    # nxf' tensor\n",
        "# ==========================================="
      ],
      "outputs": [],
      "metadata": {
        "id": "4AEDqJQFYVQk"
      }
    },
    {
      "cell_type": "markdown",
      "source": [
        "> Now we are ready to put everything together:"
      ],
      "metadata": {
        "id": "HXK6uhFjYVQk"
      }
    },
    {
      "cell_type": "code",
      "execution_count": null,
      "source": [
        "class SparseGCNLayer(Module):\n",
        "  def __init__(self, in_channels, out_channels):\n",
        "    \"\"\"\n",
        "    One layer of Graph Convolutional Network (GCN)\n",
        "    similar to the implemented before, but using the sparse\n",
        "    representation of edges as opposed to the dense\n",
        "    adjacency matrix.\n",
        "\n",
        "    Args:\n",
        "        in_channels: (int) - input dimension\n",
        "        out_channels: (int) - output dimension\n",
        "    \"\"\"\n",
        "    super().__init__()\n",
        "    self.linear = Linear(in_channels, out_channels)\n",
        "\n",
        "  def forward(self, x, edge_index):\n",
        "    \"\"\"\n",
        "    Args:\n",
        "        x: (n, in_dim) - initial node features\n",
        "        edge_index: (2, e) - list of edge indices\n",
        "\n",
        "    Returns:\n",
        "        out: (n, out_dim) - updated node features\n",
        "    \"\"\"\n",
        "    x = self.linear(x)\n",
        "\n",
        "    edge_index = add_self_loops(edge_index)[0]  # Equivalent of Atilde = A + I\n",
        "    x_j = torch.index_select(x, index=edge_index[0], dim=0)\n",
        "    # x_i = torch.index_select(x, index=edge_index[1], dim=0) -- not used here\n",
        "\n",
        "    # ============ YOUR CODE HERE ==============\n",
        "    #\n",
        "    # Step 1: compute degree d\n",
        "    # d = ...\n",
        "    # Step 2: compute coefficients c_ij\n",
        "    # d_j = ...\n",
        "    # d_i = ...\n",
        "    # c_ij = ...\n",
        "    # Step 3: Compute messages m_ij\n",
        "    # m_ij = ..\n",
        "    # Step 4: Aggregate message into node representation\n",
        "    # out = ...\n",
        "    #\n",
        "    # ===========================================\n",
        "\n",
        "    return out"
      ],
      "outputs": [],
      "metadata": {
        "id": "_SD6ZI3nYVQl"
      }
    },
    {
      "cell_type": "markdown",
      "source": [
        "Let's test the layer by passing our `sample` through it:\n",
        "\n",
        "(note that we have to embed the node features first)"
      ],
      "metadata": {
        "id": "ml7uyGRUYVQn"
      }
    },
    {
      "cell_type": "code",
      "execution_count": null,
      "source": [
        "out = SparseGCNLayer(64, 1)(Embedding(28, 64)(sample.x).squeeze(1), sample.edge_index)\n",
        "print(out.shape)"
      ],
      "outputs": [],
      "metadata": {
        "id": "tEFSyqbMYVQn"
      }
    },
    {
      "cell_type": "markdown",
      "source": [
        "The output should be a vector with $29$ entries - one for each node."
      ],
      "metadata": {
        "id": "_AMDCZi_YVQn"
      }
    },
    {
      "cell_type": "markdown",
      "source": [
        "## Mini-batching for graph data"
      ],
      "metadata": {
        "id": "9_KwYsGoYVQn"
      }
    },
    {
      "cell_type": "markdown",
      "source": [
        "There is one final thing we need to add to create a training pipeline, and that is batching.  \n",
        "\n",
        "When we think of batching we typically think of adding a whole new dimension to our input. However, this won't work here because graphs come in different shapes and sizes.\n",
        "\n",
        "Instead, we perform mini-batching by **merging all graphs into <ins>one large batch graph </ins>**.\n",
        "\n",
        "Lets's look at an example. Suppose we want to batch 3 graphs $\\{G_1=(V_1, E_1)$, $G_2=(V_2, E_2)$, $G_3=(V_3, E_3)\\}$. Our batch graph will be a large graph $G=(V_1 \\cup V_2 \\cup V_3, E_1 \\cup E_2 \\cup E_3)$. In order to be able to keeping track of which nodes came from which graph, we will use a list of indices stored in the `batch` attribute.\n",
        "\n",
        "<font color = red> ✍ **Exercise:** Why does graph sparsity become an even bigger issue with batching?"
      ],
      "metadata": {
        "id": "lT5mEKczYVQn"
      }
    },
    {
      "cell_type": "markdown",
      "source": [
        "<img src=\"https://drive.google.com/uc?id=1CKcdysFE19yxW4687TjBbJbpezUaEQ2P\" height=\"350\"/>"
      ],
      "metadata": {
        "id": "gsDvepFlYVQn"
      }
    },
    {
      "cell_type": "markdown",
      "source": [
        "## <font color = orange> 🖋 **Task** Implement your own mini-batch by concatenating all graphs in a given list.\n",
        "\n",
        "> ❗Be careful: when creating the new `edge_index`, you will need to increment node indeces to match new node positions in the large graph! You can use our already implemented `collate` function for this.\n",
        ">\n",
        "> You also need to create a `batch` array assigning a graph index to each node, so 0s for nodes in the first graph, 1s for nodes in the second graph and so on."
      ],
      "metadata": {
        "id": "kNzhJPFXYVQn"
      }
    },
    {
      "cell_type": "code",
      "execution_count": null,
      "source": [
        "def collate(values: List[Tensor], incs: List[int], dim: int) -> Tensor:\n",
        "      \"\"\" Concatenate values along dim while incrementing based on incs\"\"\"\n",
        "      incs = cumsum(torch.tensor(incs))\n",
        "      return torch.cat([v + i for v, i in zip(values, incs)], dim=dim)\n",
        "\n",
        "\n",
        "def create_mini_batch(graph_list: List[Data]) -> Data:\n",
        "    \"\"\" Build a sparse graph from a batch of graphs \"\"\"\n",
        "\n",
        "    # ============ YOUR CODE HERE ==============\n",
        "    # To compute a batch graph you need to 1) concatenate the features\n",
        "    # 2) concatenate and update the edge indexes and 3) create the batching\n",
        "    # vector assigning each node to a graph\n",
        "    #\n",
        "    # batch_x = torch.cat(...)\n",
        "    # batch_y = ...\n",
        "    # batch_edge_index = collate(...)\n",
        "    # batch_batch = ...\n",
        "    #\n",
        "    # ===========================================\n",
        "\n",
        "    batch_batch = batch_batch.to(torch.int64)\n",
        "\n",
        "    #create the big sparse graph\n",
        "    batch_graph = Data(x=batch_x,\n",
        "                       y=batch_y,\n",
        "                       batch=batch_batch,\n",
        "                       edge_index=batch_edge_index)\n",
        "    return batch_graph"
      ],
      "outputs": [],
      "metadata": {
        "id": "hF4FOFsFYVQo"
      }
    },
    {
      "cell_type": "markdown",
      "source": [
        "To test the batching implementation, we will visualise 2 graphs from the test dataset. If all is well, you should see two distinct molecules on top of each other:"
      ],
      "metadata": {
        "id": "07q61xWGYVQo"
      }
    },
    {
      "cell_type": "code",
      "execution_count": null,
      "source": [
        "test_minibatch = create_mini_batch(test_ds[:2])\n",
        "gallery([test_minibatch], max_fig_size=(8,6), node_emb=[test_minibatch.batch/2])"
      ],
      "outputs": [],
      "metadata": {
        "id": "B8CUGfbIYVQo"
      }
    },
    {
      "cell_type": "markdown",
      "source": [
        "## <font color = orange> 🖋 **Task** Aggregate the node representations into graph-level representation for a batch of graphs.\n",
        "\n",
        "> The GNN layers we implemented so far output a representation for each node. In order to obtain graph-level representations, we need to aggregate them according to the graph they are part of.\n",
        ">\n",
        "> Use the tools you learned about so far to complete the model below, which takes batched graphs and outputs a single prediction per graph. You need to implement the final step where node-level embeddings are converted to graph-level ones.\n",
        ">\n",
        "> 🆘 **Hint:** Compare this code to `SimpleGCN`. What needs to be done differently here? Where in the code do we need to use `batch`?"
      ],
      "metadata": {
        "id": "KCrUw1teYVQt"
      }
    },
    {
      "cell_type": "code",
      "execution_count": null,
      "source": [
        "class ZINCModel(Module):\n",
        "  def __init__(self, model, hidden_dim, num_layers,\n",
        "               **kwargs):\n",
        "    \"\"\"\n",
        "    A GNN model applying a series of `model` layers\n",
        "    to create graph-level representation\n",
        "\n",
        "    Args:\n",
        "        model: (Module) - the class of layers applied\n",
        "                        inside the model\n",
        "        hidden_dim: (int) - hidden dimension\n",
        "        num_layers: (int) - number of layers\n",
        "    \"\"\"\n",
        "    super().__init__()\n",
        "\n",
        "    self.embed = Embedding(28, hidden_dim)\n",
        "    self.layers = torch.nn.ModuleList(\n",
        "        [model(in_channels=hidden_dim, out_channels=d, **kwargs)\n",
        "        for d in (num_layers - 1) * [hidden_dim] + [1]])\n",
        "\n",
        "\n",
        "  def forward(self, graph):\n",
        "    \"\"\"\n",
        "    Args:\n",
        "        graph: (PyG.Data) - a batch of graphs\n",
        "    Returns:\n",
        "        out: (float) - a scalar representing the output for the entire graph\n",
        "    \"\"\"\n",
        "    x = graph.x\n",
        "    batch = graph.batch\n",
        "    edge_index = graph.edge_index\n",
        "\n",
        "    x = self.embed(x).squeeze(1)\n",
        "    for i in range(len(self.layers)):\n",
        "      x = self.layers[i](x, edge_index=edge_index)\n",
        "      if i < len(self.layers) - 1:\n",
        "        x = F.relu(x)\n",
        "\n",
        "    # ============ YOUR CODE HERE ==============\n",
        "    # Aggregate the node information into graph information\n",
        "    # for each graph in the batch\n",
        "    #\n",
        "    # x = ...\n",
        "    #\n",
        "    # ===========================================\n",
        "\n",
        "    out = x.squeeze(-1)\n",
        "    return out"
      ],
      "outputs": [],
      "metadata": {
        "id": "dFZTesUAYVQt"
      }
    },
    {
      "cell_type": "markdown",
      "source": [
        "Let's test the model:"
      ],
      "metadata": {
        "id": "lhH7PQ3BYVQt"
      }
    },
    {
      "cell_type": "code",
      "execution_count": null,
      "source": [
        "ZINCModel(model=SparseGCNLayer, hidden_dim=32, num_layers=2)(create_mini_batch(train_ds[:2]))"
      ],
      "outputs": [],
      "metadata": {
        "id": "qoVPjQhRYVQt"
      }
    },
    {
      "cell_type": "markdown",
      "source": [
        "We can finally train our model! We just need to load some boilerplate code for the training loop..."
      ],
      "metadata": {
        "id": "U7NfbljRYVQt"
      }
    },
    {
      "cell_type": "code",
      "execution_count": null,
      "source": [
        "# @title [RUN] Hyperparameters GCN\n",
        "BATCH_SIZE = 64 #@param {type:\"integer\"}\n",
        "NUM_EPOCHS =  100 #@param {type:\"integer\"}\n",
        "LR         = 0.005 #@param {type:\"number\"}\n",
        "HIDDEN_DIM = 64 #@param {type:\"integer\"}\n",
        "NUM_LAYERS = 4 #@param {type:\"integer\"}\n",
        "\n",
        "\n",
        "#you can add more here if you need"
      ],
      "outputs": [],
      "metadata": {
        "cellView": "form",
        "id": "4C5geEmPYVQt"
      }
    },
    {
      "cell_type": "code",
      "execution_count": null,
      "source": [
        "def train(dataset, model, optimiser, epoch, loss_fct):\n",
        "    \"\"\" Train model for one epoch\n",
        "    \"\"\"\n",
        "    model.train()\n",
        "    num_iter = int(len(dataset)/BATCH_SIZE)\n",
        "    for i in range(num_iter):\n",
        "        batch_list = dataset[i*BATCH_SIZE:(i+1)*BATCH_SIZE]\n",
        "        batch = create_mini_batch(batch_list)\n",
        "        optimiser.zero_grad()\n",
        "\n",
        "        batch = batch.to(DEVICE)\n",
        "        y_hat = model(batch)\n",
        "        loss = loss_fct(y_hat, batch.y)\n",
        "\n",
        "        loss.backward()\n",
        "        optimiser.step()\n",
        "    return loss.data\n",
        "\n",
        "def evaluate(dataset, model, loss_fct):\n",
        "    \"\"\" Evaluate model on dataset\n",
        "    \"\"\"\n",
        "    model.eval()\n",
        "    # be careful in practice, as doing this way we will lose some\n",
        "    # examples from the validation split, when len(dataset)%BATCH_SIZE != 0\n",
        "    # think about how can you fix this!\n",
        "    num_iter = math.ceil(len(dataset)/BATCH_SIZE)\n",
        "    loss_eval = 0\n",
        "    for i in range(num_iter):\n",
        "        batch_list = dataset[i*BATCH_SIZE:min((i+1)*BATCH_SIZE, len(dataset))]  # Last batch is shorter\n",
        "        batch = create_mini_batch(batch_list)\n",
        "        batch = batch.to(DEVICE)\n",
        "\n",
        "        y_hat = model(batch)\n",
        "        loss = loss_fct(y_hat, batch.y)\n",
        "\n",
        "        loss_eval += loss.data\n",
        "\n",
        "    loss_eval /= num_iter\n",
        "    return loss_eval"
      ],
      "outputs": [],
      "metadata": {
        "id": "2FiFtZwmYVQt"
      }
    },
    {
      "cell_type": "code",
      "execution_count": null,
      "source": [
        "def run_exp(model, train_dataset, val_dataset, test_dataset,\n",
        "               loss_fct, lr, num_epochs):\n",
        "    \"\"\" Train the model for NUM_EPOCHS epochs\n",
        "    \"\"\"\n",
        "    print(\"\\nModel architecture:\")\n",
        "    print(model)\n",
        "\n",
        "    model = model.to(DEVICE)\n",
        "    #Instantiatie our optimiser\n",
        "    optimiser = torch.optim.Adam(model.parameters(), lr=lr)\n",
        "    training_stats = None\n",
        "\n",
        "    #initial evaluation (before training)\n",
        "    val_loss = evaluate(val_dataset, model, loss_fct)\n",
        "    train_loss = evaluate(train_dataset[:BATCH_SIZE], model,\n",
        "                                        loss_fct)\n",
        "    epoch_stats = {'train_loss': train_loss.cpu(), 'val_loss': val_loss.cpu(), 'epoch':0}\n",
        "    training_stats = update_stats(training_stats, epoch_stats)\n",
        "\n",
        "    print(\"\\nStart training:\")\n",
        "    for epoch in range(num_epochs):\n",
        "        if isinstance(train_dataset, list):\n",
        "            random.shuffle(train_dataset)\n",
        "        else:\n",
        "            train_dataset.shuffle()\n",
        "        train_loss = train(train_dataset, model, optimiser, epoch,\n",
        "                                        loss_fct)\n",
        "        val_loss = evaluate(val_dataset, model, loss_fct)\n",
        "        print(f\"[Epoch {epoch+1}]\",\n",
        "                    f\"train loss: {train_loss:.3f} val loss: {val_loss:.3f}\",\n",
        "              )\n",
        "        # store the loss and the computed metric for the final plot\n",
        "        epoch_stats = {'train_loss': train_loss.cpu(), 'val_loss': val_loss.cpu(),\n",
        "                      'epoch':epoch+1}\n",
        "        training_stats = update_stats(training_stats, epoch_stats)\n",
        "\n",
        "    test_loss = evaluate(test_dataset, model,  loss_fct)\n",
        "    print(f\"Done! Test loss: {test_loss:.3f}\")\n",
        "    return training_stats"
      ],
      "outputs": [],
      "metadata": {
        "id": "eE7E-c3FYVQt"
      }
    },
    {
      "cell_type": "markdown",
      "source": [
        "... and let the magic happen:"
      ],
      "metadata": {
        "id": "QmYf2fkLYVQu"
      }
    },
    {
      "cell_type": "code",
      "execution_count": null,
      "source": [
        "gcn_model = ZINCModel(model=SparseGCNLayer, hidden_dim=HIDDEN_DIM, num_layers=NUM_LAYERS)\n",
        "\n",
        "stats = run_exp(gcn_model, train_ds, val_ds,\n",
        "                                  test_ds, loss_fct=F.mse_loss, lr=LR, num_epochs=NUM_EPOCHS)"
      ],
      "outputs": [],
      "metadata": {
        "id": "f6_rCWG2YVQu"
      }
    },
    {
      "cell_type": "code",
      "execution_count": null,
      "source": [
        "plot_stats(stats)"
      ],
      "outputs": [],
      "metadata": {
        "id": "_B7w_uedYVQu"
      }
    },
    {
      "cell_type": "markdown",
      "source": [
        "## Graph Attention Network\n",
        "\n",
        "We will wrap up this section by implementing another popular GNN layer called [Graph Attention Network (GAT)](https://arxiv.org/abs/1710.10903).\n"
      ],
      "metadata": {
        "id": "3IiXH2JoYVQu"
      }
    },
    {
      "cell_type": "markdown",
      "source": [
        "Compared to Graph Convolutional Network, which statically aggregates the information from the node's neigbourhood, GAT Layers adopts a more powerful aggregation technique, by using an attention mechanism.\n",
        "\n",
        "\n",
        "We define the GAT layer as\n",
        "\n",
        "\n",
        "$$\n",
        "\\mathbf{h_i} = \\sigma \\big( \\sum_{j \\in N_i} \\alpha\\left(\\mathbf{x_i}, \\mathbf{x_j}\\right) \\mathbf{x_j} \\mathbf{W}\\big)\n",
        "$$\n",
        "\n",
        "where\n",
        "\n",
        "$$\n",
        "\\alpha\\left(\\mathbf{x_i}, \\mathbf{x_j}\\right) = \\sigma(\\text{LeakyReLU}\\left( \\left(\\mathbf{x_i}\\mathbf{q}_1^T + \\mathbf{x_j}\\mathbf{q}_2^T\\right)\\right)) \\in \\mathbb{R}\n",
        "$$\n",
        "\n",
        "with $\\mathbf{q}_1^T, \\mathbf{q}_2^T \\in \\mathbb{R}^{d \\times 1}$  and $\\sigma$ is the softmax nonlinearity applied across each node's neighbourhood.\n",
        "\n",
        "Concretly, in GCN, summation coefficients were *statically* determined by $\\mathbf{A}$, while in GAT the aggregation is *dynamic*, with the weighted aggregation depending both on adjacency matrix $\\mathbf{A}$ but also on  the features $\\mathbf{X}$. The attention coefficient predicts the importance of each neighbour, permitting the model to block the information from some of the nodes if they are not relevant for the task.\n",
        "\n",
        "\n",
        "\n",
        "<!-- Note: the original paper recommends concatenating $\\mathbf{x_i}$ and $\\mathbf{x_j}$, but virtually all implementations in the real world use addition instead, at no particular loss to the expressivity of the layer. -->\n"
      ],
      "metadata": {
        "id": "XUjnms5cYVQu"
      }
    },
    {
      "cell_type": "markdown",
      "source": [
        "<!-- <img src=\"https://drive.google.com/uc?id=19K-_yrXjn7AM0NYvK556MdNf6r_MzyRn\" height=\"300\" /> -->\n",
        "\n",
        "<img src=\"https://drive.google.com/uc?id=1nxEFw41NOWd27E40938zKqFaUjMTTdpz\" height=\"300\" />\n"
      ],
      "metadata": {
        "id": "wuRycoKFYVQu"
      }
    },
    {
      "cell_type": "markdown",
      "source": [
        "## <font color = orange> 🖋 **Task** Implement the Graph Attention Layer using Pytorch.\n",
        "\n",
        "> Implement the attention coefficients $\\alpha$ for GAT in sparse form using `scatter_sum`.\n",
        ">\n",
        "> 🆘 **Hint:** we already imported `softmax` from `torch_geometric.utils`. It takes `index` as a second parameter, which determines groups that will be softmaxed independently of each other. Why is this useful here?"
      ],
      "metadata": {
        "id": "RJvSG9TGYVQu"
      }
    },
    {
      "cell_type": "code",
      "execution_count": null,
      "source": [
        "class GATLayer(Module):\n",
        "  def __init__(self, in_channels, out_channels):\n",
        "    \"\"\"\n",
        "    One layer of Graph Attention Network (GAT)\n",
        "\n",
        "    Args:\n",
        "        in_channels: (int) - input dimension\n",
        "        out_channels: (int) - output dimension\n",
        "    \"\"\"\n",
        "    super().__init__()\n",
        "    self.a_i = Linear(out_channels,1, bias=False)\n",
        "    self.a_j = Linear(out_channels,1, bias=False)\n",
        "\n",
        "    self.linear = Linear(in_channels, out_channels)\n",
        "    self.negative_slope = 0.2\n",
        "\n",
        "  def forward(self, x, edge_index):\n",
        "    \"\"\"\n",
        "    Args:\n",
        "        x: (n, in_dim) - initial node features\n",
        "        edge_index: (2, e) - list of edge indices\n",
        "\n",
        "    Returns:\n",
        "        out: (n, out_dim) - updated node features\n",
        "    \"\"\"\n",
        "    x = self.linear(x)\n",
        "    # select all the source nodes for each edge\n",
        "    x_j = torch.index_select(x, index=edge_index[0], dim=0)\n",
        "    # select all the destination nodes for each edge\n",
        "    x_i = torch.index_select(x, index=edge_index[1], dim=0)\n",
        "\n",
        "    # ============ YOUR CODE HERE ==============\n",
        "    # Implement the equation above to compute the\n",
        "    # node update corresonding to GAT\n",
        "    #\n",
        "    # e = ...\n",
        "    # alpha = ...\n",
        "    # out = ...\n",
        "    #\n",
        "    # ===========================================\n",
        "\n",
        "    return out"
      ],
      "outputs": [],
      "metadata": {
        "id": "E8etWmG8YVQu"
      }
    },
    {
      "cell_type": "code",
      "execution_count": null,
      "source": [
        "# @title [RUN] Hyperparameters GAT\n",
        "NUM_EPOCHS =  100 #@param {type:\"integer\"}\n",
        "LR         = 0.005 #@param {type:\"number\"}\n",
        "HIDDEN_DIM = 64 #@param {type:\"integer\"}\n",
        "NUM_LAYERS = 4 #@param {type:\"integer\"}\n",
        "\n",
        "\n",
        "#you can add more here if you need"
      ],
      "outputs": [],
      "metadata": {
        "cellView": "form",
        "id": "M7XF7PKSYVQu"
      }
    },
    {
      "cell_type": "code",
      "execution_count": null,
      "source": [
        "gat_model = ZINCModel(model=GATLayer, hidden_dim=HIDDEN_DIM, num_layers=NUM_LAYERS)\n",
        "\n",
        "stats = run_exp(gat_model, train_ds, val_ds, test_ds, loss_fct=F.mse_loss, lr=LR, num_epochs=NUM_EPOCHS)"
      ],
      "outputs": [],
      "metadata": {
        "id": "UA6w5BI9YVQv"
      }
    },
    {
      "cell_type": "code",
      "execution_count": null,
      "source": [
        "plot_stats(stats)"
      ],
      "outputs": [],
      "metadata": {
        "id": "yfEKl8MDYVQv"
      }
    },
    {
      "cell_type": "markdown",
      "source": [
        "If all goes well, you should see GAT slightly outperform GCN."
      ],
      "metadata": {
        "id": "ug5nzSjsYVQv"
      }
    },
    {
      "cell_type": "markdown",
      "source": [
        "🎉 Congratulations, you have finished the first half of the tutorial!\n",
        "\n",
        "In the process, you reinvented many primitives that already exist in off-the-shelf GNN libraries. For example, lifting node representations to edges with `index_select` is already done more efficiently in `torch_geometric.nn.conv.MessagePassing.lift`, batching is implemented in `torch_geometric.loader.DataLoader`, and our `collate` is an oversimplified version of `torch_geometric.data.collate`. Feel free to check out these functions and compare.\n",
        "\n",
        "In the upcoming half of this tutorial you will learn to work with this high-level API, but now you hopefully understand that there is nothing mysterious going on under the hood!"
      ],
      "metadata": {
        "id": "EKwHHfDHYVQv"
      }
    },
    {
      "cell_type": "markdown",
      "source": [
        "#  <font color=green> 🚼 [Intermediate] **First steps in Pytorch-Geometric** </font>\n"
      ],
      "metadata": {
        "id": "783cmcM-dhG-"
      }
    },
    {
      "cell_type": "markdown",
      "source": [
        "So far, we learned how to implement some GNN architectures using the standard [Pytorch library](https://pytorch.org/docs/stable/index.html). While this gives us a better understanding of what operations are happening inside a GNN, it can become quite cumbersome for more complex projects. Just think about how painful it was to implement your own graph batching (well done! 🥂) or how much memory you wasted storing a big adjacency matrix full of zeros.\n",
        "\n",
        "To avoid these, for the rest of this practical we will use **Pytorch-Geometric library** (PyG). Pytorch Geometric is a library built on top of Pytorch, especially designed for a smoother handeling of geometric deep learning, providing easy-to-use mini-batching operation, several build-in GNN architectures, datasets and much more. If you never encounter PyG before don't worry, we will teach you step-by-step everything you need to know for this tutorial. However, if you want to explore more, there are some very useful tutorials on the [official platform](https://pytorch-geometric.readthedocs.io/en/latest/get_started/colabs.html).\n",
        "\n",
        "\n",
        "## Data object and mini-batching\n",
        "\n",
        "In PyG, a graph is stored using the `Data` object, containg all the information about a graph $G(V,E)$:\n",
        "\n",
        "\n",
        ">  **`data.x`**: a tensor of dimension $|V| \\times C$ tensor containing the node features \\\n",
        "  **`data.edge_index`**: a tensor of dimension $2 \\times |E|$ describing the graph connectivity \\\n",
        "  **`data.edge_attr`**: if applicable, a tensor of dimension $|E| \\times K$ containing edge features \\\n",
        "  **`data.y`**: depending on the task, the target can contain labels either for each node, each edge or each graph\n",
        "\n",
        "If needed, you can add your own attributes to the `data` object (we will see this later). Moreover, pyg provides a series of special attributes and functions that you can directly access such as `data.num_nodes`, `data.num_edges`, `data.has_isolated_nodes()` and [much more](https://pytorch-geometric.readthedocs.io/en/latest/generated/torch_geometric.data.Data.html#torch_geometric.data.Data).\n",
        "\n",
        "🔍 Lets look at an example:"
      ],
      "metadata": {
        "id": "9iOnSZ4MegDo"
      }
    },
    {
      "cell_type": "code",
      "execution_count": null,
      "source": [
        "x = torch.rand(3, 5)\n",
        "edge_index = torch.tensor(\n",
        "    [[0,1,2,0],[1,0,0,2]],\n",
        "    dtype=torch.long\n",
        ")\n",
        "graph = Data(x=x, edge_index=edge_index)\n",
        "\n",
        "print(f\"Graph contains {graph.num_edges} edges, {graph.num_nodes} nodes, each characterised by {graph.x.shape[0]} features.\")\n"
      ],
      "outputs": [],
      "metadata": {
        "id": "96nOk-FJnjpF"
      }
    },
    {
      "cell_type": "markdown",
      "source": [
        "This is similar to the object returned by our ZINC datasets. However PyG allows us to batch and unbatch the graphs much quicker, using the `Batch` object. Lets try to do it:"
      ],
      "metadata": {
        "id": "OVtwiGAupJ1K"
      }
    },
    {
      "cell_type": "code",
      "execution_count": null,
      "source": [
        "# Graph 1\n",
        "x_1 = torch.tensor([[10.0], [0.5], [1.7]], dtype=torch.float)\n",
        "edge_index_1 = torch.tensor(\n",
        "    [[0, 1, 1, 2], [1, 0, 2, 1]],\n",
        "    dtype=torch.long\n",
        ")\n",
        "data_1 = Data(x=x_1, edge_index=edge_index_1)\n",
        "\n",
        "# Graph 2\n",
        "x_2 = torch.tensor([[11.5], [120.2], [-100], [40.5]], dtype=torch.float)\n",
        "edge_index_2 = torch.tensor(\n",
        "    [[0, 2, 1, 0, 1], [2, 0, 0, 1, 3]],\n",
        "    dtype=torch.long\n",
        ")\n",
        "data_2 = Data(x=x_2, edge_index=edge_index_2)\n",
        "\n",
        "# Create a batch from the 2 graphs using Batch.from_data_list\n",
        "data_list = [data_1, data_2]\n",
        "batch = Batch.from_data_list(data_list)\n",
        "\n",
        "dense_adjacency = to_dense_adj(batch.edge_index).numpy().squeeze()\n",
        "print(\"Let's see if it does what we expect:\")\n",
        "print_color_numpy(dense_adjacency, data_list)\n",
        "print(f\"\\nWe also have access to what graph each node it is part of via: {batch.batch}:\")\n",
        "\n",
        "# Unbatch the graphs via simple indexing\n",
        "print(f\"And we can still access the individual graphs in the batch: \\n Graph 0: {batch[0]}, \\n Graph 1: {batch[1]}\")"
      ],
      "outputs": [],
      "metadata": {
        "id": "zquabOeAqDQ_"
      }
    },
    {
      "cell_type": "markdown",
      "source": [
        "`Batch.from_data_list()` is useful when we have our own list of graphs to batch. On the other hand, the PyG `Dataloader` object handles all of the batching under the hood."
      ],
      "metadata": {
        "id": "oyEUXoZZyAHl"
      }
    },
    {
      "cell_type": "code",
      "execution_count": null,
      "source": [
        "train_loader = DataLoader(train_ds, batch_size=4, shuffle=True)\n",
        "\n",
        "# extract first batch from the ZINC dataset\n",
        "first_batch = next(iter(train_loader))\n",
        "print(\"This is the first batch in our dataset:\", first_batch)"
      ],
      "outputs": [],
      "metadata": {
        "id": "HUXdqHrqdnVq"
      }
    },
    {
      "cell_type": "markdown",
      "source": [
        "## Message-Passing framework\n",
        "\n",
        "Now that we are familiar to how graphs are stored in PyG, lets see how we create models using it. To understand how to implement a GNN model in PyG, we need to recap what the general **Message-Passing framework** is.\n",
        "\n",
        "Lets consider a graph $G = (V,E)$, with $n$ nodes, $e$ edges, where each node $i$ is characterised by a feature vector $x_i \\in \\mathbb{R}^d$. If edge features are available, we denote them by $e_{ij} \\in \\mathbb{R}^f$. We represent by ${N}_i$ the set of neighbours for node $i$.\n",
        "\n",
        "Most of the Graph Neural Network architectures are based on a $3$-step framework:\n",
        "\n",
        "![](https://drive.google.com/uc?id=14cAQUiL8DEkM_HWDpi6InpF7f1geIS2O)\n",
        "\n",
        "\n",
        "* <font color=blue> **Message step.** </font> For each pair of connected nodes $(i,j)$, the function $f_{msg}(x_i, x_j, e_{ij})$ will compute a message $m_{ij}$ representing the information sent between the $2$ nodes. Usually, this is implemented as an MLP which takes as input the concated input from the source node $x_j$, the destination node $x_i$ and the edge features $e_{ij}$. *Note that all these $3$ representations are optional and they can be omitted depending on the architecture.*\n",
        "\n",
        "* <font color=orange> **Aggregate step.** </font> For each node $i$, the incoming messages received from all the neighbouring nodes $m_i = ⊕ (\\{m_{ij, j \\in N_i}\\})$ are aggregated using a permutation-invariant operator $⨁$ such as sumation, average, maximum etc.\n",
        "\n",
        "* <font color=purple> **Update step.** </font> For each node $i$, the aggregated information $m_i$ is combined with the previous representation $x_i$ using a function $f_{upd}(x_i, m_i)$ which can be implemented as an MLP over the concatenation of the input vectors.\n",
        "\n",
        "🤔 Note that, most of the existing architectures including [GCN](https://arxiv.org/abs/1609.02907), [GAT](https://arxiv.org/abs/1710.10903) and [MPNN](https://arxiv.org/abs/1704.01212) are instantiations of this general framework. Take some time to think about what functions each of them are using.\n",
        "\n",
        "\n",
        "\n"
      ],
      "metadata": {
        "id": "Woj_lLFFzcJL"
      }
    },
    {
      "cell_type": "markdown",
      "source": [
        "We are now ready to implement such models in Pytorch Geometric. To create a message-passing based architecture, we inherit from the `MessagePassing` class, which[ take care of most of the propagation pipeline](https://pytorch-geometric.readthedocs.io/en/latest/notes/create_gnn.html#the-messagepassing-base-class). All we need to do is to implement the three functions described above: `message`, `aggregate` and `update`.\n",
        "\n",
        "\n",
        "\n",
        "```\n",
        "class MPNNLayer(MessagePassing):\n",
        "    def __init__(self, emb_dim=64, edge_dim=4, aggr='add'):\n",
        "        ...\n",
        "\n",
        "    def forward(self, x, edge_index, edge_attr):\n",
        "        ...\n",
        "\n",
        "    def message(self, x_i, x_j, edge_attr):\n",
        "        ...\n",
        "\n",
        "    def aggregate(self, inputs, index):\n",
        "        ...\n",
        "\n",
        "    def update(self, aggr_out, x):\n",
        "        ...\n",
        "```\n",
        "\n",
        ">  \\\n",
        "**`forward(x, edge_index, edge_attr)`**: in the forward function, we simply need to call the `propagate()` function which automatically triggers the message passing procedure: `message()` -> `aggregate()` -> `update()`. \\\n",
        "\\\n",
        "  **`message(x_i, x_j, edge_attr)`**: this constructs messages from node j to node i for each pair of nodes (j,i) in the `edge_index`. The function will received all the arguments passed to the `propagate` function. Additionally, for all the node-related arguments $h$ received by propagate, the function will distinguish between the source node, represented as ` _j` and the destination node represented as `_i`. So, if we have two node-related arguments in the propagate call, $x$ and $h$, message function will receive 4 arguments `x_j`, `h_j` corresponding to the source node, and `x_i`, `h_i` corresponding to the destination. \\\n",
        "  \\\n",
        "  **`aggregate(inputs, index)`**: it receives the set of all messages computed above (`inputs`) together with a set of indices representing the destination node for all these messages. Functions like `scatter_mean`, `scatter_max` can be useful to implement various aggregators.\\\n",
        "\\\n",
        "  **`update(aggr_out, x)`**: receives the aggregated information from the above function (one for each node) together with any extra arguments received in the propagate, in order to compute the final node representation.\\\n",
        "  \\\n",
        "\n"
      ],
      "metadata": {
        "id": "LkZq0xTu6laH"
      }
    },
    {
      "cell_type": "markdown",
      "source": [
        "## Graph Attention Network in Pytorch-Geometric\n",
        "\n",
        "As we mention before, most of the GNN architecture can be seen as a particular instantiation of the above $3$-steps framework.\n",
        "\n",
        "The **Graph Attention Network** that you implemented in the begining of this tutorial is also an instance of the Message Passing framework.\n",
        "\n",
        "\n",
        "\n",
        "![](https://drive.google.com/uc?id=1_GO3WRlFAviSv1MlzcMkyOt_jEYrv2gQ)\n",
        "\n",
        "To implement the attention coefficient, various functions can be used. In [the original paper](https://arxiv.org/abs/1710.10903):\n",
        "\n",
        "<!-- \\begin{align}\n",
        " \\alpha(x_i, x_j)=\\sigma(f_1(x_i)+f_2(x_j))\n",
        "\\end{align}\n",
        "\n",
        "  where $\\sigma$ is LeakyReLu followed by softmax activation and $f_1$ and $f_2$ are 2 distinct MLPs $f_1, f_2: \\mathbb{R}^d \\rightarrow \\mathbb{R}^1$. -->\n",
        "\n",
        "$$\n",
        "\\alpha\\left(\\mathbf{x_i}, \\mathbf{x_j}\\right) = \\sigma(\\text{LeakyReLU}\\left( \\left(\\mathbf{x_i}\\mathbf{q}_1^T + \\mathbf{x_j}\\mathbf{q}_2^T\\right)\\right)) \\in \\mathbb{R}\n",
        "$$\n",
        "\n",
        "with $\\mathbf{q}_1^T, \\mathbf{q}_2^T \\in \\mathbb{R}^{d \\times 1}$  and $\\sigma$ is the softmax nonlinearity applied across each node's neighbourhood.\n",
        "\n"
      ],
      "metadata": {
        "id": "UUeaRBiuNnTP"
      }
    },
    {
      "cell_type": "markdown",
      "source": [
        "Lets use what we learned so far to implement the GAT layer in PyG."
      ],
      "metadata": {
        "id": "21JIJbdCAM1U"
      }
    },
    {
      "cell_type": "markdown",
      "source": [
        "\n",
        "\n",
        "## <font color = orange> 🖋 **Task** Implement a layer of Graph Attention Network using the Pytorch Geometric tools.\n",
        "\n",
        "> Most of the code is provided for you. You just need to fill in the code corresponding to the message and update function:\n",
        ">\n",
        "> \\begin{align}\n",
        "f_{msg}(x_i, x_j)&=\\alpha(x_i, x_j)x_j \\\\\n",
        "f_{upd}(x, m)&=f(m)\n",
        "\\end{align}"
      ],
      "metadata": {
        "id": "W2Bt6NiiITHB"
      }
    },
    {
      "cell_type": "code",
      "execution_count": null,
      "source": [
        "class GATpygLayer(MessagePassing):\n",
        "    def __init__(self, in_dim, out_dim):\n",
        "        \"\"\"GAT Layer implemented using Pytorch Geometric\n",
        "\n",
        "        Args:\n",
        "            in_dim: (int) - input dimension for nodes `d`\n",
        "            out_dim: (int) - output dimension `d_e`\n",
        "        \"\"\"\n",
        "        super().__init__(node_dim=0, aggr='add')\n",
        "        self.in_dim = in_dim\n",
        "        self.out_dim = out_dim\n",
        "\n",
        "        # ============ YOUR CODE HERE ==============\n",
        "        # Add new layers to compute the two linear projections\n",
        "        # x_i - > x_i q_i^T and x_j -> x_j q_j^T\n",
        "        #\n",
        "        # self.lin_q = ...\n",
        "        # self.lin_k = ...\n",
        "        # ===========================================\n",
        "        self.lin_upd = Linear(in_dim, out_dim, bias=False)\n",
        "\n",
        "\n",
        "    def forward(self, x, edge_index):\n",
        "        \"\"\"\n",
        "          The forward pass perform one round of message passing.\n",
        "\n",
        "          By calling the `propagate()` function it automatically starts the\n",
        "          `message()` -> `aggregate()` -> `update()` pipeline.\n",
        "\n",
        "          Args:\n",
        "              x: (n, in_dim) - initial node features\n",
        "              edge_index: (2, e) - list of edges as a tuple\n",
        "\n",
        "          Returns:\n",
        "              out: (n, out_dim) - updated node features\n",
        "        \"\"\"\n",
        "        out = self.propagate(edge_index, x=x)\n",
        "        return out\n",
        "\n",
        "\n",
        "    def message(self, x_i, x_j, edge_index_j):\n",
        "        \"\"\" The `message()` function constructs the messages from nodes j\n",
        "        to nodes i for each edge (j, i) in `edge_index`.\n",
        "\n",
        "        This function receives all the arguments passed to the `propagate` function.\n",
        "        For node-related features, it distinguish between the source and\n",
        "        the destination node by appending `_i` or `_j` to the name.\n",
        "        E.g. if `x` represents the node features, message will receive both `x_j`\n",
        "        the features for source node and `x_i` the features of the destination.\n",
        "\n",
        "        Args:\n",
        "            x_j: (e, d) - source node features, essentially x[edge_index[0]]\n",
        "            x_i: (e, d) - destination node features: x[edge_index[1]]\n",
        "            edge_index_j: (e, d_e) - node index used to guide the softmax computation\n",
        "        Returns:\n",
        "            out: (e, d) - messages `m_ji`\n",
        "        \"\"\"\n",
        "\n",
        "        # ============ YOUR CODE HERE ==============\n",
        "        # Compute alpha(x_i, x_j) as a tensor of dimension (e,)\n",
        "        # storing the messages for each edge in edge_index\n",
        "        #\n",
        "        # alpha = ...\n",
        "        # alpha = softmax(alpha, edge_index_j)\n",
        "        # out = ...\n",
        "        # ===========================================\n",
        "\n",
        "        return out\n",
        "\n",
        "    def update(self, aggr_out, x):\n",
        "        \"\"\" update()` combines the aggregated messages with the initial nodes.\n",
        "\n",
        "        `aggr_out` represent the result of the `aggregate()` step, whiel the\n",
        "        rest of the arguments are all the arguments initially passed to\n",
        "        `propagate()`.\n",
        "\n",
        "        Args:\n",
        "            aggr_out: (n, d) - aggregated messages `m_i`\n",
        "            x: (n, d) - initial node features\n",
        "\n",
        "        Returns:\n",
        "            out: (n, d') - updated node features\n",
        "        \"\"\"\n",
        "        out = self.lin_upd(aggr_out)\n",
        "        return out\n"
      ],
      "outputs": [],
      "metadata": {
        "id": "kFa4Yne1N79A"
      }
    },
    {
      "cell_type": "code",
      "execution_count": null,
      "source": [
        "layer_gat = GATpygLayer(5,10)\n",
        "x = torch.rand(3, 5)\n",
        "edge_index = torch.tensor([[0,1,2,0],[1,0,0,2]], dtype=torch.long)\n",
        "out = layer_gat(x, edge_index)\n",
        "print(f\"Layer output has shape: {out.shape}\")"
      ],
      "outputs": [],
      "metadata": {
        "id": "v-wFAB8YRlQk"
      }
    },
    {
      "cell_type": "markdown",
      "source": [
        "That's awesome!! You implemented your first model in PyG!! Lets use this layer to create a full GAT model for graph-level prediction.\n",
        "\n",
        "You might have noticed that the code is vey similar to what you've implemented in the Pytorch section. However, thanks to the *magic* behind PyG , you don't need to `index_select` and `scatter_` all the time. 🪄  "
      ],
      "metadata": {
        "id": "DHLWTLKvJ_HA"
      }
    },
    {
      "cell_type": "code",
      "execution_count": null,
      "source": [
        "class GATpygModel(Module):\n",
        "    def __init__(self, hidden_dim, num_layers=2):\n",
        "        \"\"\"GAT Neural Network model for graph-level regression\n",
        "\n",
        "        Args:\n",
        "            hidden_dim: (int) - hidden dimension\n",
        "            num_layers: (int) - number of GAT layers used in the model\n",
        "        \"\"\"\n",
        "        super(GATpygModel, self).__init__()\n",
        "        self.num_layers = num_layers\n",
        "\n",
        "        # the ZINC node feature are integers representing the atom type\n",
        "        # we convert them in vectorial representation using a learnable embedding\n",
        "        self.embed_x = Embedding(28, hidden_dim)\n",
        "\n",
        "        self.layers = [GATpygLayer(hidden_dim, hidden_dim) for _ in range(num_layers-1)]\n",
        "        self.layers += [GATpygLayer(hidden_dim, 1)]\n",
        "        self.layers = ModuleList(self.layers)\n",
        "\n",
        "    def forward(self, graph):\n",
        "        \"\"\"\n",
        "        Args:\n",
        "            graph: (PyG.Data) - batch of PyG graphs\n",
        "\n",
        "        Returns:\n",
        "            out: (batch_size,) - scalar prediction for each graph\n",
        "        \"\"\"\n",
        "        x = self.embed_x(graph.x).squeeze(1)\n",
        "\n",
        "        for i in range(self.num_layers-1):\n",
        "          x = self.layers[i](x, graph.edge_index)\n",
        "          x = F.relu(x)\n",
        "        x = self.layers[-1](x, graph.edge_index)\n",
        "        out = global_add_pool(x, graph.batch).squeeze(-1)\n",
        "\n",
        "        return out"
      ],
      "outputs": [],
      "metadata": {
        "id": "ZgKoEFGNmifv"
      }
    },
    {
      "cell_type": "code",
      "execution_count": null,
      "source": [
        "#@title [RUN] Helper functions for train-eval models with PyG\n",
        "# these are very similar to the ones used before, but now we are\n",
        "# taking advantage of the PyG tools for loading and batching data\n",
        "\n",
        "def train_pyg(loader, model, optimiser, epoch, loss_fct):\n",
        "    \"\"\" Train model for one epoch\n",
        "    \"\"\"\n",
        "    model.train()\n",
        "    for batch in loader:\n",
        "        batch = batch.to(DEVICE)\n",
        "        optimiser.zero_grad()\n",
        "\n",
        "        y_hat = model(batch)\n",
        "        loss = loss_fct(y_hat, batch.y)\n",
        "\n",
        "        loss.backward()\n",
        "        optimiser.step()\n",
        "    return loss.item()\n",
        "\n",
        "def evaluate_pyg(loader, model, loss_fct):\n",
        "    \"\"\" Evaluate model on dataset\n",
        "    \"\"\"\n",
        "    model.eval()\n",
        "    loss_eval = 0\n",
        "    for batch in loader:\n",
        "        batch = batch.to(DEVICE)\n",
        "        with torch.no_grad():\n",
        "            y_hat = model(batch)\n",
        "            loss = loss_fct(y_hat, batch.y)\n",
        "\n",
        "            loss_eval += loss.item() * batch.num_graphs\n",
        "    loss_eval /= len(loader.dataset)\n",
        "    return loss_eval\n",
        "\n",
        "def run_exp_pyg(model, train_loader, val_loader, test_loader, loss_fct,\n",
        "                    lr=0.001, num_epochs=100):\n",
        "    \"\"\" Train the model for NUM_EPOCHS epochs\n",
        "    \"\"\"\n",
        "    print(\"\\nModel architecture:\")\n",
        "    print(model)\n",
        "\n",
        "    model = model.to(DEVICE)\n",
        "\n",
        "    #Instantiatie our optimiser\n",
        "    optimiser = torch.optim.Adam(model.parameters(), lr=lr)\n",
        "    training_stats = None\n",
        "\n",
        "    #initial evaluation (before training)\n",
        "    val_loss = evaluate_pyg(val_loader, model, loss_fct)\n",
        "    train_loss = evaluate_pyg(train_loader, model, loss_fct)\n",
        "    epoch_stats = {'train_loss': train_loss, 'val_loss': val_loss, 'epoch':0}\n",
        "    training_stats = update_stats(training_stats, epoch_stats)\n",
        "\n",
        "    print(\"\\nStart training:\")\n",
        "    for epoch in range(num_epochs):\n",
        "        train_loss = train_pyg(train_loader, model, optimiser, epoch,\n",
        "                                        loss_fct)\n",
        "        val_loss = evaluate_pyg(val_loader, model, loss_fct)\n",
        "        print(f\"[Epoch {epoch+1}]\",\n",
        "                    f\"train loss: {train_loss:.3f} val loss: {val_loss:.3f}\",\n",
        "              )\n",
        "        # store the loss and the computed metric for the final plot\n",
        "        epoch_stats = {'train_loss': train_loss, 'val_loss': val_loss,\n",
        "                      'epoch':epoch+1}\n",
        "        training_stats = update_stats(training_stats, epoch_stats)\n",
        "\n",
        "    test_loss = evaluate_pyg(test_loader, model,  loss_fct)\n",
        "    print(f\"Done! Test loss: {test_loss:.3f}\")\n",
        "    return training_stats"
      ],
      "outputs": [],
      "metadata": {
        "id": "nPi8mIXmGv5H",
        "cellView": "form"
      }
    },
    {
      "cell_type": "markdown",
      "source": [
        "We are now ready to train our model on the molecular prediction problem."
      ],
      "metadata": {
        "id": "7ERtqTufKrtk"
      }
    },
    {
      "cell_type": "code",
      "execution_count": null,
      "source": [
        "batch_size = 64\n",
        "\n",
        "train_loader = DataLoader(train_ds, batch_size=batch_size, shuffle=True, drop_last=True)\n",
        "val_loader = DataLoader(val_ds, batch_size=batch_size, shuffle=False)\n",
        "test_loader = DataLoader(test_ds, batch_size=batch_size, shuffle=False)"
      ],
      "outputs": [],
      "metadata": {
        "id": "9VntJG8UIKPu"
      }
    },
    {
      "cell_type": "code",
      "execution_count": null,
      "source": [
        "# @title [RUN] Hyperparameters GAT\n",
        "\n",
        "NUM_EPOCHS =  100 #@param {type:\"integer\"}\n",
        "LR         = 0.005 #@param {type:\"number\"}\n",
        "HIDDEN_DIM = 64 #@param {type:\"integer\"}\n",
        "NUM_LAYERS = 4 #@param {type:\"integer\"}\n",
        "\n",
        "\n",
        "#you can add more here if you need"
      ],
      "outputs": [],
      "metadata": {
        "id": "71ckTAfAL0X8"
      }
    },
    {
      "cell_type": "code",
      "execution_count": null,
      "source": [
        "model_gat_pyg = GATpygModel(HIDDEN_DIM, num_layers=NUM_LAYERS)\n",
        "stats = run_exp_pyg(model_gat_pyg,  train_loader, val_loader, test_loader, loss_fct=F.mse_loss,\n",
        "                    lr=LR, num_epochs=NUM_EPOCHS)"
      ],
      "outputs": [],
      "metadata": {
        "id": "QKheqXR0Ii0z"
      }
    },
    {
      "cell_type": "code",
      "execution_count": null,
      "source": [
        "plot_stats(stats)"
      ],
      "outputs": [],
      "metadata": {
        "id": "eYcR0m5Wb11r"
      }
    },
    {
      "cell_type": "markdown",
      "source": [
        "❗ Note that, since this is the exact same architecture as the one you implemented in Pytorch, we don't expect an improvement in performance. This exercise was just such that you get experience playing with PyG."
      ],
      "metadata": {
        "id": "O_25cGkFLM72"
      }
    },
    {
      "cell_type": "markdown",
      "source": [
        "## From Graph Attention Network to Graph Transformer\n",
        "\n",
        "<!-- basically GAT with transformer-like attention and some extra twists (layer norm...) -->\n",
        "\n",
        "\n",
        "As you've already seen several times during the summer school, one of the most popular neural network these days, across several domains, is the [Transformer](https://arxiv.org/abs/1706.03762) architecture. The key element of the Transformer layer is a particular type of attention known as <ins>key-query similarity<ins>.\n",
        "\n",
        "To get a step closer to Transformers, we will modify the previous Graph Attention Layer, by replacing the original function used to infer the attention coefficient -- $\\alpha(x_i, x_j)$ with the key-query similarity used in Transformers. This is the idea behind the first [**Graph Transformer** architecture](https://arxiv.org/abs/2312.11109) and the core observation that leads to popular idea that [*Transformers are Graph Neural Networks*](https://thegradient.pub/transformers-are-graph-neural-networks/).\n",
        "\n",
        "Concretly, we will implement the following message function:\n",
        "\n",
        "\\begin{align}\n",
        "f_{msg}(x_i, x_j)=\\sigma(q(x_i)^Tk(x_j))v(x_j)\n",
        "\\end{align}\n",
        "\n",
        "where $k,q: \\mathbb{R}^d \\rightarrow \\mathbb{R}^f$ and $v: \\mathbb{R}^d \\rightarrow \\mathbb{R}^o$ are 3 different linear layers and $\\sigma$ is the softmax non-linearity.\n",
        "\n",
        "❗️ *Note that, since we are already processing $v(x_j)$ in the message function, we can omit the update function entirely.*\n"
      ],
      "metadata": {
        "id": "VMOleceFNqEZ"
      }
    },
    {
      "cell_type": "markdown",
      "source": [
        "## <font color = orange> 🖋 **Task** Implement the modified Graph Attention Layer, using dot-product attention."
      ],
      "metadata": {
        "id": "swraStnlDk7Q"
      }
    },
    {
      "cell_type": "markdown",
      "source": [
        "> For our implementation:\n",
        ">\n",
        "> \\begin{align}\n",
        "f_{msg}(x_i, x_j)&=\\sigma(q(x_i)^Tk(x_j))v(x_j)\\\\\n",
        "f_{upd}(x,m)&=m \\hspace{40mm} \\small\\text{  # this is the default update() behaviour}\n",
        "\\end{align}\n",
        ">\n",
        "> This is just one option to align the model with the message passing framework. Several equivalent alignments exist, and you are free to choose the one you prefer.\n",
        ">\n",
        "> ❗ Note that, in our code template, we postpone the application of the MLPs $f_*$ to be done in the message function. While applying them in the forward would be more efficient, we prefered this approach for educational purpose."
      ],
      "metadata": {
        "id": "P12JLWRyDyhB"
      }
    },
    {
      "cell_type": "code",
      "execution_count": null,
      "source": [
        "class GTpygLayer(MessagePassing):\n",
        "    def __init__(self, in_dim, out_dim, hid_dim):\n",
        "        \"\"\"Sparse Graph Transformer Layer implemented using Pytorch Geometric\n",
        "\n",
        "        Args:\n",
        "            in_dim: (int) - input dimension for node features\n",
        "            out_dim: (int) - output dimension\n",
        "            hid_dim: (int) - hidden dimension\n",
        "            aggr: (int) - the type of aggregation used in the message passing\n",
        "        \"\"\"\n",
        "        super().__init__(node_dim=0, aggr='add')\n",
        "        self.in_dim = in_dim\n",
        "        self.out_dim = out_dim\n",
        "\n",
        "        # ============ YOUR CODE HERE ==============\n",
        "        # Add new layers to compute the three linear projections\n",
        "        # x_i -> q(x_i); x_j -> k(x_i); x_j -> v(x_i)\n",
        "        #\n",
        "        # self.lin_q = ...\n",
        "        # self.lin_k = ...\n",
        "        # self.lin_v = ...\n",
        "        # ===========================================\n",
        "\n",
        "    def forward(self, x, edge_index):\n",
        "        \"\"\"\n",
        "        Args:\n",
        "            x: (n, in_dim) - initial node features\n",
        "            edge_index: (2, e) - list of edges as a tuple\n",
        "\n",
        "        Returns:\n",
        "            out: (n, out_dim) - updated node features\n",
        "        \"\"\"\n",
        "        out = self.propagate(edge_index, x=x)\n",
        "        return out\n",
        "\n",
        "\n",
        "    def message(self, x_i, x_j, edge_index_j):\n",
        "        \"\"\"\n",
        "        Args:\n",
        "            x_i: (e, in_dim) - features corresponding to destination nodes\n",
        "            x_j: (e, in_dim) - features corresponding to source nodes\n",
        "            edge_index_j: (e, d_e) - node index used to guide the softmax computation\n",
        "\n",
        "        Returns:\n",
        "            out: (n, out_dim) - updated node features\n",
        "        \"\"\"\n",
        "\n",
        "        # ============ YOUR CODE HERE ==============\n",
        "        # Compute alpha(x_i, x_j) as a tensor of dimension (e,)\n",
        "        # storing the messages for each edge in edge_index\n",
        "        #\n",
        "        # alpha = ...\n",
        "        # alpha = softmax(alpha, edge_index_j)\n",
        "        # out = ...\n",
        "        # ===========================================\n",
        "\n",
        "        return out"
      ],
      "outputs": [],
      "metadata": {
        "id": "LW-te-URY3ti"
      }
    },
    {
      "cell_type": "code",
      "execution_count": null,
      "source": [
        "model = GTpygLayer(5,10, 16)\n",
        "x = torch.rand(3, 5)\n",
        "edge_index = torch.tensor([[0,1,2,0],[1,0,0,2]], dtype=torch.long)\n",
        "out = model(x, edge_index)\n",
        "print(out.shape)"
      ],
      "outputs": [],
      "metadata": {
        "id": "KsozvluxZ9M-"
      }
    },
    {
      "cell_type": "code",
      "execution_count": null,
      "source": [
        "class GTpygModel(Module):\n",
        "    def __init__(self, hidden_dim, num_layers=2):\n",
        "        \"\"\"\n",
        "        Sparse Graph Transformer Neural Network model for graph-level regression\n",
        "\n",
        "        Args:\n",
        "            hidden_dim: (int) - hidden dimension\n",
        "            num_layers: (int) - number of GT layers used in the model\n",
        "        \"\"\"\n",
        "        super(GTpygModel, self).__init__()\n",
        "        self.num_layers = num_layers # please select num_layers>=2\n",
        "\n",
        "        # the ZINC node feature are integers representing the atom type\n",
        "        # we convert them in vectorial representation using a learnable embedding\n",
        "        self.embed_x = Embedding(28,hidden_dim)\n",
        "\n",
        "        self.layers = [GTpygLayer(hidden_dim, hidden_dim, hidden_dim) for _ in range(num_layers-1)]\n",
        "        self.layers += [GTpygLayer(hidden_dim, 1, hidden_dim)]\n",
        "        self.layers = ModuleList(self.layers)\n",
        "\n",
        "    def forward(self, graph):\n",
        "        \"\"\"\n",
        "        Args:\n",
        "            graph: (PyG.Data) - batch of PyG graphs\n",
        "        Returns:\n",
        "           out: (batch_size,) - scalar prediction for each graph in the batch\n",
        "        \"\"\"\n",
        "        x = self.embed_x(graph.x).squeeze(1)\n",
        "\n",
        "        for i in range(self.num_layers-1):\n",
        "          x = self.layers[i](x, graph.edge_index)\n",
        "          x = F.relu(x)\n",
        "        x = self.layers[-1](x, graph.edge_index)\n",
        "        out = global_add_pool(x, graph.batch)\n",
        "\n",
        "        out = out.squeeze(-1)\n",
        "        return out"
      ],
      "outputs": [],
      "metadata": {
        "id": "D89d9oY4-37y"
      }
    },
    {
      "cell_type": "markdown",
      "source": [
        "Lets train and evaluate this new model on the molecular prediction task we used before."
      ],
      "metadata": {
        "id": "WphZUhBxW8ns"
      }
    },
    {
      "cell_type": "code",
      "execution_count": null,
      "source": [
        "# @title [RUN] Hyperparameters GT\n",
        "\n",
        "NUM_EPOCHS =  100 #@param {type:\"integer\"}\n",
        "LR         = 0.001 #@param {type:\"number\"}\n",
        "HIDDEN_DIM = 64 #@param {type:\"integer\"}\n",
        "NUM_LAYERS = 4 #@param {type:\"integer\"}\n",
        "\n",
        "\n",
        "#you can add more here if you need"
      ],
      "outputs": [],
      "metadata": {
        "id": "Sz0glF9-CRUN"
      }
    },
    {
      "cell_type": "code",
      "execution_count": null,
      "source": [
        "model_gt_pyg = GTpygModel(HIDDEN_DIM, num_layers=NUM_LAYERS)\n",
        "stats = run_exp_pyg(model_gt_pyg,  train_loader, val_loader, test_loader, loss_fct=F.mse_loss,\n",
        "                    lr=LR, num_epochs=NUM_EPOCHS)"
      ],
      "outputs": [],
      "metadata": {
        "id": "EWFFGo5r-l0b"
      }
    },
    {
      "cell_type": "code",
      "execution_count": null,
      "source": [
        "plot_stats(stats)"
      ],
      "outputs": [],
      "metadata": {
        "id": "4KgEm4EL_uDe"
      }
    },
    {
      "cell_type": "markdown",
      "source": [
        "If everythings go well, the results should be on par with the previous GAT model. Multiple heads cand be added to improve the performance, but this is beyond the goal of this tutorial."
      ],
      "metadata": {
        "id": "ALDPIgLCXj_k"
      }
    },
    {
      "cell_type": "markdown",
      "source": [
        "# <font color=green> ⏳ [Advanced] **Over-squashing: a bottleneck problem in Graph Networks** </font>"
      ],
      "metadata": {
        "id": "6gCvStRGNs0O"
      }
    },
    {
      "cell_type": "markdown",
      "source": [
        "Graph Neural Networks are powerful models that, [under certain conditions](https://arxiv.org/abs/1810.00826), can distinguish a large class of non-isomorphic graphs. However, there are still scenarios where standard graph neural networks fall short.\n",
        "\n",
        "To get an intuition about challenges in Graph Neural Networks, lets look at the following ❚█══█❚ graph."
      ],
      "metadata": {
        "id": "OOpElCqyX9vN"
      }
    },
    {
      "cell_type": "code",
      "execution_count": null,
      "source": [
        "graph = generate_barbell_graph(m1=6, m2=7, target_label=[0,0,1])\n",
        "gallery([graph], layout='custom')"
      ],
      "outputs": [],
      "metadata": {
        "id": "tYRFm_AbnfSj"
      }
    },
    {
      "cell_type": "markdown",
      "source": [
        "If our task requires sending messages between one node from the left clique (lets call it A) and another node from the right clique (lets call it B), this message needs to travers the thin *bridge* connecting A and B. However, besides the information we are interested in, there is a high number of messages (all the possible messages from a node in A to a node in B, a total of $|A| \\times |B|$) traversing that bridge. This means that, the pairwise messages exchanged by the nodes forming the bridge $\\{0, 9, 12, 13 \\dots 18\\}$ need to be capable of preserving all the information from this increasing number of messages.\n",
        "\n",
        "This problem is called **[over-squashing](https://arxiv.org/pdf/2006.05205)**. In simpler words, the information from an exponentially-growing set of messages is compressed into fixed-length node vectors.\n",
        "\n",
        "\n",
        "<figure>\n",
        "<img src=\"https://drive.google.com/uc?id=1GTKuG13g5Cy7wi_srBaIGX3ky31MEkgV\"  width=\"300\" height=\"150\">\n",
        "<figcaption>Image from  <a href=\"https://arxiv.org/pdf/2006.05205\"> the paper </a></figcaption>\n",
        "</figure>\n"
      ],
      "metadata": {
        "id": "s0w2EZARZMbX"
      }
    },
    {
      "cell_type": "markdown",
      "source": [
        "## Long-range Node Transfer in a Tree 🌴\n",
        "\n",
        "To understand the over-squashing problem better, we are gonna use a [synthetic dataset ](https://arxiv.org/pdf/2006.05205) especially designed for that. Lets consider a tree (a connected graph without cycles) of depth $r$. All the nodes have $(0,0)$ features except from the leaves wich are labeled (id, value) and the root node which is labeled (id, $0$). For the (id, value) pairs, each value is uniquely associated to an id. The goal is, from the features of the root node, to predict the value corresponding to the node's id. In order to solve this task, all the leaves needs to send their (id, value) message to the root node, and the root needs to select the one with the same id as itself in order to find its corresponding value.  "
      ],
      "metadata": {
        "id": "vFtiWxljvCKA"
      }
    },
    {
      "cell_type": "markdown",
      "source": [
        "Lets look at an example:"
      ],
      "metadata": {
        "id": "yVKJgMTgTlUO"
      }
    },
    {
      "cell_type": "code",
      "execution_count": null,
      "source": [
        "tree_dataset, dim0, num_classes = DictionaryLookupDataset(3).generate_data(add_self_loops=False)\n",
        "draw_one_tree(tree_dataset[1])"
      ],
      "outputs": [],
      "metadata": {
        "id": "mm_RX0aVXMv7"
      }
    },
    {
      "cell_type": "markdown",
      "source": [
        "In the example above, the root node has id $2$. Among the leaf nodes, the id $2$ corresponds to the value 1. Thus, the root node should predict 1.\n",
        "\n",
        "As the tree becomes deeper, both the distance and the number of messages from the leafs to the root increases. This is a particularly challenging problem  for a message passing GNN, since it will require the summarisation of an *increasingly number of messages* on a finite vectorial representation.\n"
      ],
      "metadata": {
        "id": "fXhQvks8aYq6"
      }
    },
    {
      "cell_type": "markdown",
      "source": [
        "To understand to what extent over-squashing is a problem in practice, we will train and evaluate our current models on this synthetic dataset."
      ],
      "metadata": {
        "id": "rQYdTC8hFDqQ"
      }
    },
    {
      "cell_type": "code",
      "execution_count": null,
      "source": [
        "tree_dataset, dim0, num_classes = DictionaryLookupDataset(4).generate_data()\n",
        "\n",
        "train_syn_data = tree_dataset[:1000]\n",
        "val_syn_data = tree_dataset[1000:2000]\n",
        "test_syn_data = tree_dataset[2000:3000]\n",
        "\n",
        "batch_size = 128\n",
        "train_syn_loader = DataLoader(tree_dataset, batch_size=batch_size, shuffle=True)\n",
        "val_syn_loader = DataLoader(tree_dataset, batch_size=batch_size, shuffle=False)\n",
        "test_syn_loader = DataLoader(tree_dataset, batch_size=batch_size, shuffle=False)"
      ],
      "outputs": [],
      "metadata": {
        "id": "zd4Rzt71zFib"
      }
    },
    {
      "cell_type": "code",
      "execution_count": null,
      "source": [
        "print(f\"Number of classes: {num_classes}\")\n",
        "graph = tree_dataset[0]\n",
        "print(f\"Node features for graph 0:\\n {tree_dataset[0].x.T}\")\n",
        "print(f\"Target label for graph 0: {tree_dataset[0].y}\") # first graph has class 0\n",
        "print(f\"Source node for graph 0: {tree_dataset[0].root_mask.int()}\") # the node denoted by 1 is the source node"
      ],
      "outputs": [],
      "metadata": {
        "id": "aWu_RYSu4Ywo"
      }
    },
    {
      "cell_type": "markdown",
      "source": [
        "## <font color = orange> 🖋 **Task** Modify the below graph model class to output the prediction *only* from the source node information (as denoted by the `data.root_mask` attribute) instead of computing the average global pooling as before."
      ],
      "metadata": {
        "id": "IgDQtyXZEwck"
      }
    },
    {
      "cell_type": "markdown",
      "source": [
        "\n",
        "> ❗ Note that since we are interested in analysing the capacity of the GNN architectures to model this task, our primary metrics will be the train loss / train accuracy. A model uncapable of sending long-distance message not only will struggle to generalized on validation set, but will also perform poorly on the training set."
      ],
      "metadata": {
        "id": "M_9YFXUZcuZ7"
      }
    },
    {
      "cell_type": "code",
      "execution_count": null,
      "source": [
        "class GTpygSynModel(Module):\n",
        "    def __init__(self, output_dim, hidden_dim, num_layers=2, dim_emb=0):\n",
        "        \"\"\"\n",
        "        Sparse Graph Transformer Neural Network model for root-node-level classification\n",
        "\n",
        "        In our synthetic task the prediction needs to be done only\n",
        "        from the features of the root node stored in root_mask attribute\n",
        "\n",
        "        Args:\n",
        "            output_dim: (int) - output dimension (number of classes)\n",
        "            hidden_dim: (int) - hidden dimension\n",
        "            num_layers: (int) - number of GT layers used in the model\n",
        "            dim_emb: (int) - number of potential ids/vals in the TREE\n",
        "                            (characterstic to the dataset)\n",
        "        \"\"\"\n",
        "        super(GTpygSynModel, self).__init__()\n",
        "        self.num_layers = num_layers # please select num_layers>=2\n",
        "\n",
        "        self.layer0_keys = Embedding(num_embeddings=dim_emb + 1, embedding_dim=hidden_dim)\n",
        "        self.layer0_values = Embedding(num_embeddings=dim_emb + 1, embedding_dim=hidden_dim)\n",
        "\n",
        "        self.layers = [GTpygLayer(hidden_dim, hidden_dim, hidden_dim) for _ in range(num_layers-1)]\n",
        "        self.layers += [GTpygLayer(hidden_dim, output_dim, hidden_dim)]\n",
        "        self.layer_norms = [torch_geometric.nn.LayerNorm(hidden_dim) for _ in range(num_layers-1)]\n",
        "\n",
        "        self.layers = ModuleList(self.layers)\n",
        "        self.layer_norms = ModuleList(self.layer_norms)\n",
        "\n",
        "    def forward(self, graph):\n",
        "        \"\"\"\n",
        "        Args:\n",
        "            graph (PyG.Data): batch of PyG graphs\n",
        "        Returns:\n",
        "            out (batch_size, output_dim): updated representation for the root nodes\n",
        "        \"\"\"\n",
        "        # we changed the atom embedding with an id-embedding and a value-embedding\n",
        "        # the final node input features will be the sum of the id and value embedding\n",
        "        x_key, x_val = graph.x[:, 0], graph.x[:, 1]\n",
        "        x_key_embed = self.layer0_keys(x_key)\n",
        "        x_val_embed = self.layer0_values(x_val)\n",
        "        new_x = x_key_embed + x_val_embed\n",
        "\n",
        "        x = new_x\n",
        "\n",
        "        for i in range(self.num_layers-1):\n",
        "          x = self.layers[i](x, graph.edge_index)\n",
        "          x = F.relu(x)\n",
        "          x = x + new_x\n",
        "          x = self.layer_norms[i](x)\n",
        "          new_x = x\n",
        "        x = self.layers[-1](x, graph.edge_index)\n",
        "\n",
        "        # ============ YOUR CODE HERE ==============\n",
        "        # From x extract only the information corresponging to\n",
        "        # the root node as indicated by graph.root_mask\n",
        "        #\n",
        "        # out = ...\n",
        "        # ===========================================\n",
        "\n",
        "        return out"
      ],
      "outputs": [],
      "metadata": {
        "id": "l0SYGrH46hQk"
      }
    },
    {
      "cell_type": "code",
      "execution_count": null,
      "source": [
        "#@title [RUN] Helper functions for train-eval models.\n",
        "\n",
        "def train_syn(model, train_loader, optimizer, device):\n",
        "    model.train()\n",
        "    loss_all = 0\n",
        "    pred_all = []\n",
        "    gt_all = []\n",
        "\n",
        "    for data in train_loader:\n",
        "        data = data.to(device)\n",
        "        optimizer.zero_grad()\n",
        "\n",
        "        y_pred = model(data)\n",
        "        pred_all.extend(y_pred.detach().cpu())\n",
        "        gt_all.extend(data.y)\n",
        "\n",
        "        loss = F.cross_entropy(y_pred, data.y)\n",
        "        loss.backward()\n",
        "        loss_all += loss.item() * data.num_graphs\n",
        "        optimizer.step()\n",
        "\n",
        "    pred_all = torch.stack(pred_all).cpu().numpy()\n",
        "    gt_all = torch.stack(gt_all).cpu().numpy()\n",
        "    return loss_all / len(train_loader.dataset), pred_all, gt_all\n",
        "\n",
        "\n",
        "def eval_syn(model, loader, device):\n",
        "    model.eval()\n",
        "    loss = 0\n",
        "\n",
        "    pred_all = []\n",
        "    gt_all = []\n",
        "    for data in loader:\n",
        "        data = data.to(device)\n",
        "        with torch.no_grad():\n",
        "            y_pred = model(data)\n",
        "            pred_all.extend(y_pred.detach().cpu())\n",
        "            gt_all.extend(data.y.detach().cpu())\n",
        "\n",
        "            loss = F.cross_entropy(y_pred, data.y)\n",
        "            loss += loss.item() * data.num_graphs\n",
        "\n",
        "    pred_all = torch.stack(pred_all).cpu().numpy()\n",
        "    gt_all = torch.stack(gt_all).cpu().numpy()\n",
        "    return loss / len(loader.dataset), pred_all, gt_all\n",
        "\n",
        "\n",
        "def run_exp_syn(model, train_loader, val_loader, test_loader,\n",
        "                    lr=0.001, n_epochs=100):\n",
        "\n",
        "    print(\"\\nModel architecture:\")\n",
        "    print(model)\n",
        "    device = DEVICE\n",
        "    model = model.to(device)\n",
        "\n",
        "    # Adam optimizer\n",
        "    optimizer = torch.optim.Adam(model.parameters(), lr=lr)\n",
        "\n",
        "    # LR scheduler which decays LR when validation metric doesn't improve\n",
        "    scheduler = torch.optim.lr_scheduler.ReduceLROnPlateau(\n",
        "        optimizer, mode='min', factor=0.9, patience=5, min_lr=0.00001)\n",
        "\n",
        "    print(\"\\nStart training:\")\n",
        "    best_val_acc = None\n",
        "    training_stats =  None # Track Test/Val MAE vs. epoch (for plotting)\n",
        "\n",
        "    for epoch in range(1, n_epochs+1):\n",
        "        # Call LR scheduler at start of each epoch\n",
        "        lr = scheduler.optimizer.param_groups[0]['lr']\n",
        "\n",
        "        # Train model for one epoch, return avg. training loss\n",
        "        train_loss, train_pred, train_gt = train_syn(model, train_loader, optimizer, device)\n",
        "        # print(np.argmax(train_pred, -1), train_gt)\n",
        "        train_acc = accuracy_score(train_gt, np.argmax(train_pred, -1))\n",
        "\n",
        "        # Evaluate model on validation set\n",
        "        val_loss, val_pred, val_gt = eval_syn(model, val_loader, device)\n",
        "        val_acc = accuracy_score(val_gt, np.argmax(val_pred, -1))\n",
        "\n",
        "        if best_val_acc is None or val_acc >= best_val_acc:\n",
        "            # Evaluate model on test set if validation metric improves\n",
        "            test_loss, test_pred, test_gt = eval_syn(model, test_loader, device)\n",
        "            test_acc = accuracy_score(test_gt, np.argmax(test_pred, -1))\n",
        "            best_val_loss = val_loss\n",
        "            best_val_acc = val_acc\n",
        "\n",
        "\n",
        "        if epoch % 10 == 0:\n",
        "            # Print and track stats every 10 epochs\n",
        "            print(f'Epoch: {epoch:03d}, LR: {lr:5f}, Train Loss: {train_loss:.7f},\\n '\n",
        "                  f'Val Loss: {val_loss:.7f}, Test Loss: {test_loss:.7f}\\n',\n",
        "                  f'Train Acc: {train_acc:.7f}\\n')\n",
        "                  # f'Val Acc: {val_acc:.7f}, Test Acc: {test_acc:.7f}\\n')\n",
        "\n",
        "        epoch_stats = {'train_loss': train_loss, 'val_loss': val_loss, 'train_acc':train_acc, 'epoch':epoch}\n",
        "        training_stats = update_stats(training_stats, epoch_stats)\n",
        "\n",
        "    print(\"Done\")\n",
        "\n",
        "    return training_stats"
      ],
      "outputs": [],
      "metadata": {
        "cellView": "form",
        "id": "TkyIezwB7On-"
      }
    },
    {
      "cell_type": "code",
      "execution_count": null,
      "source": [
        "# @title [RUN] Hyperparameters GT\n",
        "\n",
        "NUM_EPOCHS =  100 #@param {type:\"integer\"}\n",
        "LR         = 0.001 #@param {type:\"number\"}\n",
        "HIDDEN_DIM = 32 #@param {type:\"integer\"}\n",
        "NUM_LAYERS = 5 #@param {type:\"integer\"}\n",
        "\n",
        "\n",
        "#you can add more here if you need"
      ],
      "outputs": [],
      "metadata": {
        "id": "WCzo1sAD-Kyd"
      }
    },
    {
      "cell_type": "code",
      "execution_count": null,
      "source": [
        "model_gt_syn = GTpygSynModel(num_classes+1, HIDDEN_DIM, num_layers=NUM_LAYERS, dim_emb=dim0)\n",
        "gt_perf_per_epoch = run_exp_syn(model_gt_syn, train_syn_loader, val_syn_loader, test_syn_loader,\n",
        "                    lr=LR, n_epochs=NUM_EPOCHS)"
      ],
      "outputs": [],
      "metadata": {
        "id": "2hJq8TxU9MTT"
      }
    },
    {
      "cell_type": "markdown",
      "source": [
        "The performance of our model seems to be far from satisfactory, due to the over-squashing phenomena we discussed above.\n",
        "\n",
        "Some of the real-world problems might not require long-distance messages, thus a normal Message Passing GNN would be enough to solve it. However, if sending messages between distance nodes is a characteristic of our task, we need better solutions."
      ],
      "metadata": {
        "id": "fQqH1MnGgFZ3"
      }
    },
    {
      "cell_type": "markdown",
      "source": [
        "## Graph Transformer: message passing on fully connected graphs </font>\n",
        "\n"
      ],
      "metadata": {
        "id": "Kr9wHG1wNy38"
      }
    },
    {
      "cell_type": "markdown",
      "source": [
        "Hopefully we managed to convince you that sending messages between nodes situated far away in the graph is not an easy job. But how can we fix that?\n",
        "\n",
        "One simple solution is to ensure that all the nodes in our graph stay reasonably close to each other. This is the key principle behind a new and exciting research direction known as **graph rewiring**: if sending messages on the original graph is too hard for our current tools, lets help them a bit by modifying the graph topology, i.e. adding/removing edges or adding/removing nodes.\n",
        "\n",
        "Several papers analyse the over-squashing problem, by [characterising the ingredients that leads to it](https://proceedings.mlr.press/v202/di-giovanni23a.html) and [proposing methods to alleviate it](https://arxiv.org/abs/2305.08018). In this tutorial, we will focus on two simple but efficient strategies. If you are curious to find out more, you can find a list of alternative approaches at the end of the tutorial."
      ],
      "metadata": {
        "id": "ATl811kkhrt7"
      }
    },
    {
      "cell_type": "markdown",
      "source": [
        "Arguably the easient solution to get rid of the over-squashing problem is to perform the message-passing algorithm on a <ins>fully connected graph</ins>, where each pair of two nodes are connected. This way, a single iteration of Message Passing GNN will exchange message between any pair of nodes in the graph. This can be seen as a form of rewiring the graph topology, by adding all the possible missing edges in the graph."
      ],
      "metadata": {
        "id": "3bmYyvB6lJ2J"
      }
    },
    {
      "cell_type": "markdown",
      "source": [
        "## <font color = orange> 🖋 **Task** Fill in the code to generate the edge_indexes corresponding to a fully connected graph"
      ],
      "metadata": {
        "id": "b-JVHNrEFUTF"
      }
    },
    {
      "cell_type": "markdown",
      "source": [
        "> Since this transformation is independent of the GNN processing, we will perform it as a pre-processing stage, applied when we first generate the data. This is a common approach in Pytorch Geometric, and is achieved using a special class called [`BaseTransform`](https://colab.research.google.com/drive/1VKXNhdtKS3piWqAE5h1OHdZlBcJkpx4m#scrollTo=x3VFuQbamUIf). Each `call` of the transform function will receive an instance of a graph and return the transformed version (in our case, the same graph with an extra attribute `rewire_edge_index`)."
      ],
      "metadata": {
        "id": "x3VFuQbamUIf"
      }
    },
    {
      "cell_type": "code",
      "execution_count": null,
      "source": [
        "class FullyConnectedTransform(BaseTransform):\n",
        "    def __init__(self):\n",
        "        super(FullyConnectedTransform).__init__()\n",
        "\n",
        "    def __call__(self, data):\n",
        "        \"\"\"\n",
        "        Args:\n",
        "            data (PyG.Data): one instance of PyG graph\n",
        "        Returns:\n",
        "            data (PyG.Data): original graph with an additional attribute\n",
        "                             rewire_edge_index containing the edge_index\n",
        "                             for a fully connected graph\n",
        "        \"\"\"\n",
        "        num_nodes = data.x.shape[0]\n",
        "\n",
        "        # ============ YOUR CODE HERE ==============\n",
        "        # Create a list of indices corresponding to a\n",
        "        # fully connected graph with num_nodes\n",
        "        #\n",
        "        # fully_edge_index =  ...\n",
        "        # ===========================================\n",
        "\n",
        "        # This will work fine in the batching as long as the attribute name contains edge_index\n",
        "        data.rewire_edge_index = fully_edge_index\n",
        "        return data"
      ],
      "outputs": [],
      "metadata": {
        "id": "nNZ6uMBDnAsn"
      }
    },
    {
      "cell_type": "code",
      "execution_count": null,
      "source": [
        "# One way to apply the transformation is to directly apply it to our graphs\n",
        "fc_transform = FullyConnectedTransform()\n",
        "modified_graph = fc_transform(tree_dataset[0])\n",
        "\n",
        "# Another way is to send it as argument when we first create the dataset\n",
        "tree_dataset, _, _ = DictionaryLookupDataset(3).generate_data(transform=FullyConnectedTransform())\n",
        "draw_one_graph(plt.axes(), tree_dataset[0].rewire_edge_index.numpy(), layout='tree')\n"
      ],
      "outputs": [],
      "metadata": {
        "id": "e3vSTSyrmmp_"
      }
    },
    {
      "cell_type": "markdown",
      "source": [
        "Things looks as expected. And we definitely don't have far away nodes to be worried about."
      ],
      "metadata": {
        "id": "vp64bCgUoFfY"
      }
    },
    {
      "cell_type": "markdown",
      "source": [
        "## <font color = orange> 🖋 **Task** Modify the graph neural network model to perform the message passing propagation based on the fully connected adjacency matrix\n",
        "\n"
      ],
      "metadata": {
        "id": "I_-nIAmXj3I_"
      }
    },
    {
      "cell_type": "code",
      "execution_count": null,
      "source": [
        "class GTpygRewireModel(Module):\n",
        "    def __init__(self, output_dim, hidden_dim, num_layers=2, dim_emb=0):\n",
        "        \"\"\"\n",
        "        Graph Transformer Neural Network using the rewired adjacency matrix\n",
        "        as indicated by graph.rewire_edge_index\n",
        "\n",
        "        The model perform root-node-level classification\n",
        "        In our synthetic task the prediction needs to be done only\n",
        "        from the features of the root node stored in root_mask attribute\n",
        "\n",
        "        Args:\n",
        "            output_dim: (int) - output dimension (number of classes)\n",
        "            hidden_dim: (int) - hidden dimension\n",
        "            num_layers: (int) - number of GT layers used in the model\n",
        "            dim_emb: (int) - number of potential ids/vals in the TREE\n",
        "                            (characterstic to the dataset)\n",
        "        \"\"\"\n",
        "        super(GTpygRewireModel, self).__init__()\n",
        "        self.num_layers = num_layers # please select num_layers>=2\n",
        "\n",
        "        self.layer0_keys = Embedding(num_embeddings=dim_emb + 1, embedding_dim=hidden_dim)\n",
        "        self.layer0_values = Embedding(num_embeddings=dim_emb + 1, embedding_dim=hidden_dim)\n",
        "\n",
        "        self.layers = [GTpygLayer(hidden_dim, hidden_dim, hidden_dim) for _ in range(num_layers-1)]\n",
        "        self.layers += [GTpygLayer(hidden_dim, output_dim, hidden_dim)]\n",
        "        self.layer_norms = [torch_geometric.nn.LayerNorm(hidden_dim) for _ in range(num_layers-1)]\n",
        "\n",
        "        self.layers = ModuleList(self.layers)\n",
        "        self.layer_norms = ModuleList(self.layer_norms)\n",
        "\n",
        "    def forward(self, graph):\n",
        "        \"\"\"\n",
        "        Args:\n",
        "            graph (PyG.Data): batch of PyG graphs\n",
        "        Returns:\n",
        "            out (batch_size, output_dim): updated representation for the root nodes\n",
        "        \"\"\"\n",
        "\n",
        "        # we changed the atom embedding with an id-embedding and a value-embedding\n",
        "        # the final node input features will be the sum of the id and value embedding\n",
        "        x_key, x_val = graph.x[:, 0], graph.x[:, 1]\n",
        "        x_key_embed = self.layer0_keys(x_key)\n",
        "        x_val_embed = self.layer0_values(x_val)\n",
        "        new_x = x_key_embed + x_val_embed\n",
        "        x = new_x\n",
        "\n",
        "        # ============ YOUR CODE HERE ==============\n",
        "        # This is the ORIGINAL code. Your task is to MODIFY\n",
        "        # it such that instead of the original graph topology, it uses\n",
        "        # the rewires version as denoted by `graph.rewire_edge_index`\n",
        "        #\n",
        "        # for i in range(self.num_layers-1):\n",
        "        #   x = self.layers[i](x, graph.edge_index)\n",
        "        #   x = F.relu(x)\n",
        "        #   x = x + new_x\n",
        "        #   x = self.layer_norms[i](x)\n",
        "        #   new_x = x\n",
        "        # x = self.layers[-1](x, graph.edge_index)\n",
        "        # ===========================================\n",
        "\n",
        "        out = x[graph.root_mask]\n",
        "        return out"
      ],
      "outputs": [],
      "metadata": {
        "id": "wp01bNm7J1rV"
      }
    },
    {
      "cell_type": "markdown",
      "source": [
        "It's time to train our rewired model on the synthetic dataset. We will utilise the same train-test utilitaries, but using the preprocessed dataset and the new model."
      ],
      "metadata": {
        "id": "HxJ8QzS-kUut"
      }
    },
    {
      "cell_type": "code",
      "execution_count": null,
      "source": [
        "# @title [RUN] Hyperparameters GT\n",
        "\n",
        "NUM_EPOCHS =  100 #@param {type:\"integer\"}\n",
        "LR         = 0.001 #@param {type:\"number\"}\n",
        "HIDDEN_DIM = 32 #@param {type:\"integer\"}\n",
        "NUM_LAYERS = 2 #@param {type:\"integer\"}\n",
        "\n",
        "\n",
        "#you can add more here if you need"
      ],
      "outputs": [],
      "metadata": {
        "id": "307ze-xBiMmT"
      }
    },
    {
      "cell_type": "code",
      "execution_count": null,
      "source": [
        "tree_dataset, dim0, num_classes = DictionaryLookupDataset(4).generate_data(transform=FullyConnectedTransform())\n",
        "\n",
        "train_syn_data = tree_dataset[:1000]\n",
        "val_syn_data = tree_dataset[1000:2000]\n",
        "test_syn_data = tree_dataset[2000:3000]\n",
        "\n",
        "batch_size = 128\n",
        "train_syn_loader = DataLoader(train_syn_data, batch_size=batch_size, shuffle=True)\n",
        "val_syn_loader = DataLoader(val_syn_data, batch_size=batch_size, shuffle=False)\n",
        "test_syn_loader = DataLoader(test_syn_data, batch_size=batch_size, shuffle=False)"
      ],
      "outputs": [],
      "metadata": {
        "id": "ysOyGpnowSVU"
      }
    },
    {
      "cell_type": "code",
      "execution_count": null,
      "source": [
        "seed(0)\n",
        "model_gt_syn_full = GTpygRewireModel(num_classes+1, HIDDEN_DIM, num_layers=NUM_LAYERS, dim_emb=dim0)\n",
        "gt_perf_per_epoch = run_exp_syn(model_gt_syn_full, train_syn_loader, val_syn_loader, test_syn_loader,\n",
        "                    lr=LR, n_epochs=NUM_EPOCHS)"
      ],
      "outputs": [],
      "metadata": {
        "id": "OUkmMKrjRAMB"
      }
    },
    {
      "cell_type": "markdown",
      "source": [
        "While running the GNN on the original graph topology couldn't learn anything, running the same model on the fully connected graph is now capable of learning the task. This validates that this rewiring approach is effective for our synthetic problem.\n",
        "\n",
        "🤔 However, this technique brings some issues. Before moving forwards, take some times to think about potential problems."
      ],
      "metadata": {
        "id": "6NKXaR0yjk8l"
      }
    },
    {
      "cell_type": "markdown",
      "source": [
        "## Expander Graphs: aiming for a sparser rewiring\n",
        "\n",
        "Rewiring the graph into a fully connected one helps us avoiding the over-squashing issue. However, the fully-connected rewiring suffers from a strong limitation. If the graph contains a high number of nodes, connecting each pair of nodes result in a very high number of edges. This is both memory inefficient and can exhibit numerical and optimisation issues.\n",
        "\n",
        "An ellegant solution is to [rewire the graph based on **expander graphs**](https://arxiv.org/abs/2210.02997). Expander graphs represent a class of graphs that are both sparse and highly connected. The approach remains the same: Instead of the original topology or the fully connected graph, we perform the message passing on the expander graph.\n",
        "\n",
        "We provide the code to generate the expander graph below.\n"
      ],
      "metadata": {
        "id": "etPjeuQiDe2S"
      }
    },
    {
      "cell_type": "code",
      "execution_count": null,
      "source": [
        "# @title [RUN] Generate a set of graph expanders\n",
        "# code based on: https://github.com/kpetrovicc/TGR/blob/main/modules/cayley_construction.py\n",
        "\"\"\"# Cayley Graph Generation\"\"\"\n",
        "\n",
        "import math\n",
        "\n",
        "from collections import deque\n",
        "import re\n",
        "import numpy as np\n",
        "import torch\n",
        "from torch_geometric.utils import subgraph\n",
        "import networkx as nx\n",
        "\n",
        "_CAYLEY_BOUNDS = [\n",
        "    (6, 2),\n",
        "    (24, 3),\n",
        "    (120, 5),\n",
        "    (336, 7),\n",
        "    (1320, 11),\n",
        "]\n",
        "\n",
        "def build_cayley_bank():\n",
        "\n",
        "    ret_edges = []\n",
        "\n",
        "    for _, p in _CAYLEY_BOUNDS:\n",
        "        generators = np.array([\n",
        "            [[1, 1], [0, 1]],\n",
        "            [[1, p-1], [0, 1]],\n",
        "            [[1, 0], [1, 1]],\n",
        "            [[1, 0], [p-1, 1]]])\n",
        "        ind = 1\n",
        "\n",
        "        queue = deque([np.array([[1, 0], [0, 1]])])\n",
        "        nodes = {(1, 0, 0, 1): 0}\n",
        "\n",
        "        senders = []\n",
        "        receivers = []\n",
        "\n",
        "        while queue:\n",
        "            x = queue.pop()\n",
        "            x_flat = (x[0][0], x[0][1], x[1][0], x[1][1])\n",
        "            assert x_flat in nodes\n",
        "            ind_x = nodes[x_flat]\n",
        "            for i in range(4):\n",
        "                tx = np.matmul(x, generators[i])\n",
        "                tx = np.mod(tx, p)\n",
        "                tx_flat = (tx[0][0], tx[0][1], tx[1][0], tx[1][1])\n",
        "                if tx_flat not in nodes:\n",
        "                    nodes[tx_flat] = ind\n",
        "                    ind += 1\n",
        "                    queue.append(tx)\n",
        "                ind_tx = nodes[tx_flat]\n",
        "\n",
        "                senders.append(ind_x)\n",
        "                receivers.append(ind_tx)\n",
        "\n",
        "        ret_edges.append((p, [senders, receivers]))\n",
        "\n",
        "    return ret_edges\n",
        "\n",
        "def batched_augment_cayley(num_nodes, cayley_bank):\n",
        "\n",
        "    # Find the appropriate cayley graph\n",
        "    p = 2\n",
        "    chosen_i = -1\n",
        "\n",
        "    senders=[]\n",
        "    receivers=[]\n",
        "\n",
        "    for i in range(len(_CAYLEY_BOUNDS)):\n",
        "        sz, p = _CAYLEY_BOUNDS[i]\n",
        "        if sz >= num_nodes:\n",
        "            chosen_i = i\n",
        "            break\n",
        "    assert chosen_i >= 0\n",
        "\n",
        "    _p, edge_pack = cayley_bank[chosen_i]\n",
        "    assert p == _p\n",
        "\n",
        "    for v, w in zip(*edge_pack):\n",
        "        if v < num_nodes and w < num_nodes:\n",
        "            senders.append(v)\n",
        "            receivers.append(w)\n",
        "\n",
        "    # Create edge attributes\n",
        "    edge_attr = [[0]*272 for _ in range(len(senders))]\n",
        "    edge_index = [senders, receivers]\n",
        "    return edge_index, edge_attr"
      ],
      "outputs": [],
      "metadata": {
        "id": "GJiLHs8Excog"
      }
    },
    {
      "cell_type": "code",
      "execution_count": null,
      "source": [
        "class ExpanderTransform(BaseTransform):\n",
        "    def __init__(self):\n",
        "        super(ExpanderTransform).__init__()\n",
        "        self.cayley_bank = build_cayley_bank()\n",
        "\n",
        "    def __call__(self, data):\n",
        "        \"\"\"\n",
        "        Args:\n",
        "            data (PyG.Data): one instance of PyG graph\n",
        "        Returns:\n",
        "            data (PyG.Data): original graph with an additional attribute\n",
        "                             rewire_edge_index containing the edge_index for\n",
        "                             an expander graph\n",
        "        \"\"\"\n",
        "        num_nodes = data.x.shape[0]\n",
        "        cayley_edge_index, cayley_edge_attr = batched_augment_cayley(num_nodes, self.cayley_bank)\n",
        "        data.rewire_edge_index = torch.tensor(cayley_edge_index)\n",
        "        return data"
      ],
      "outputs": [],
      "metadata": {
        "id": "FFxzd9i909DU"
      }
    },
    {
      "cell_type": "code",
      "execution_count": null,
      "source": [
        "expander = ExpanderTransform()"
      ],
      "outputs": [],
      "metadata": {
        "id": "c88PbzeqDCbZ"
      }
    },
    {
      "cell_type": "markdown",
      "source": [
        "Lets have a look at how the two rewiring techniques looks like for one graph in our dataset."
      ],
      "metadata": {
        "id": "5PfHYkwl7B97"
      }
    },
    {
      "cell_type": "code",
      "execution_count": null,
      "source": [
        "tree_dataset, dim0, num_classes = DictionaryLookupDataset(5).generate_data(add_self_loops=False)\n",
        "# original graph\n",
        "orig_data = tree_dataset[0].clone()\n",
        "\n",
        "# expander graph\n",
        "cayley_data = orig_data.clone()\n",
        "cayley_data = expander(cayley_data)\n",
        "cayley_data.edge_index = cayley_data.rewire_edge_index\n",
        "\n",
        "# fully connected graph\n",
        "fully_data = orig_data.clone()\n",
        "fully_data = FullyConnectedTransform()(fully_data)\n",
        "fully_data.edge_index = fully_data.rewire_edge_index\n",
        "\n"
      ],
      "outputs": [],
      "metadata": {
        "id": "zH6ZxqbExnjk"
      }
    },
    {
      "cell_type": "code",
      "execution_count": null,
      "source": [
        "# plot graphs\n",
        "gallery([orig_data, cayley_data, fully_data], labels=[\"original\", \"expander\", \"fully connect\"])\n"
      ],
      "outputs": [],
      "metadata": {
        "id": "HoShW9H0_RcA"
      }
    },
    {
      "cell_type": "markdown",
      "source": [
        "We can see that the expander graph is more connected than the original graph (thus helping in our long-distance messages problem), but far less dense compared to the fully connected approach."
      ],
      "metadata": {
        "id": "qllw-CRw8Afz"
      }
    },
    {
      "cell_type": "code",
      "execution_count": null,
      "source": [
        "# @title [RUN] Hyperparameters GT\n",
        "\n",
        "NUM_EPOCHS =  100 #@param {type:\"integer\"}\n",
        "LR         = 0.001 #@param {type:\"number\"}\n",
        "HIDDEN_DIM = 32 #@param {type:\"integer\"}\n",
        "NUM_LAYERS = 5 #@param {type:\"integer\"}\n",
        "\n",
        "\n",
        "#you can add more here if you need"
      ],
      "outputs": [],
      "metadata": {
        "id": "qFvi2IOO7EpX"
      }
    },
    {
      "cell_type": "code",
      "execution_count": null,
      "source": [
        "tree_dataset, dim0, num_classes = DictionaryLookupDataset(4).generate_data(transform=ExpanderTransform())\n",
        "\n",
        "train_syn_data = tree_dataset[:1000]\n",
        "val_syn_data = tree_dataset[1000:2000]\n",
        "test_syn_data = tree_dataset[2000:3000]\n",
        "\n",
        "batch_size = 128\n",
        "train_syn_loader = DataLoader(train_syn_data, batch_size=batch_size, shuffle=True)\n",
        "val_syn_loader = DataLoader(val_syn_data, batch_size=batch_size, shuffle=False)\n",
        "test_syn_loader = DataLoader(test_syn_data, batch_size=batch_size, shuffle=False)"
      ],
      "outputs": [],
      "metadata": {
        "id": "vasBgdWmEksy"
      }
    },
    {
      "cell_type": "markdown",
      "source": [
        "Since the only modification are in the pre-processing stage (by rewiring based on the expander graph rather than fully connected), the graph model remains the same as above. It's time to train the model."
      ],
      "metadata": {
        "id": "PcNivxwGN5hq"
      }
    },
    {
      "cell_type": "code",
      "execution_count": null,
      "source": [
        "model_gt_syn_expander = GTpygRewireModel(num_classes+1, HIDDEN_DIM, num_layers=NUM_LAYERS, dim_emb=dim0)\n",
        "gt_perf_per_epoch = run_exp_syn(model_gt_syn_expander, train_syn_loader, val_syn_loader, test_syn_loader,\n",
        "                    lr=LR, n_epochs=NUM_EPOCHS)"
      ],
      "outputs": [],
      "metadata": {
        "id": "JBYe26_2euNn"
      }
    },
    {
      "cell_type": "markdown",
      "source": [
        "❗Note that, while for the fully connected approach a single layer is enough to send the messages between any pair of nodes, the expander one might need more than a single layer since, while being more connected than our original graph, it still exhibits some sparsity.\n",
        "\n",
        "For our synthetic task, the model might converge slower than the previous version, however it is still capable of learning the task. Moreover, the operations inside the model are much more efficient due to the sparser topology."
      ],
      "metadata": {
        "id": "1xilrmzD6SQL"
      }
    },
    {
      "cell_type": "markdown",
      "source": [
        "🍸 It was an intense journey so far!! We learned how to implement and train a GNN both from scratch and using the PyG library, and we even got in contact with some of the hot open-problems in the GNN research field.\n",
        "\n",
        "⏩ The main purpose of this tutorial is to make you familiar with graph deep learning and what you can do with it. However, besides the over-squashing solutions presented here, there is much more out there that we didn't have time to cover. These includes techniques such as virtual nodes or dynamic rewiring. If you are interested to find out more about all of these, we included a list of papers [in the end of this tutorial](#references)."
      ],
      "metadata": {
        "id": "rnoEGAe-69cT"
      }
    },
    {
      "cell_type": "markdown",
      "source": [
        "# <font color=green> 🧘 [Bonus] **Positional Encoding for Graph Data** </font>"
      ],
      "metadata": {
        "id": "Dn3HjUK0gN-2"
      }
    },
    {
      "cell_type": "markdown",
      "source": [
        "The major issue with the rewiring approaches presented so far is that we **completly ignore the original graph topology**. While for our synthetic problem the graph doesn't influence the output, this is unlikely to be the case in real-world problems, such as the solubility prediction in ZINC dataset. Ideally, we would like to be able to overcome over-squashing, while still being aware of the graph structure we are working on.\n",
        "\n",
        "One solution to recover the graph topology is by incorporating extra features, known as **positional encodings**. These are additional input features summarizing various graph statistics. Some popular choices include [laplacian eigenvectors](https://arxiv.org/abs/2003.00982), features extracted using [random walks](https://arxiv.org/pdf/2110.07875) or [learnable positional encoding](https://arxiv.org/pdf/2307.07107)."
      ],
      "metadata": {
        "id": "4fSDnNWkotLh"
      }
    },
    {
      "cell_type": "markdown",
      "source": [
        "In the following, we implemented a data transformation to pre-compute the laplacian eigenvector necessariy to encode graph structure information.\n",
        "\n",
        "For each node, the positional encoding corresponding to that node will be represented by the eigenvector associated with the smallest `emb_dim` eigenvalues and will be store in `data.pos`.\n"
      ],
      "metadata": {
        "id": "np_L1FJDq1ed"
      }
    },
    {
      "cell_type": "code",
      "execution_count": null,
      "source": [
        "# this is the dimension of the positional encoding\n",
        "POSEMB_DIM = 16 #@param {type:\"integer\"}"
      ],
      "outputs": [],
      "metadata": {
        "cellView": "form",
        "id": "zKUM_-Lz_XHe"
      }
    },
    {
      "cell_type": "code",
      "execution_count": null,
      "source": [
        "class AddLaplacianPETransform(BaseTransform):\n",
        "    def __init__(self, emb_dim):\n",
        "        \"\"\"\n",
        "        Args:\n",
        "            emb_dim (int): dimension of the positional encoding\n",
        "        \"\"\"\n",
        "        super(AddLaplacianPETransform).__init__()\n",
        "        self.emb_dim = emb_dim\n",
        "\n",
        "    def __call__(self, data):\n",
        "        \"\"\"\n",
        "        Args:\n",
        "            data (PyG.Data): one instance of PyG graph\n",
        "        Returns:\n",
        "            data (PyG.Data): original graph with an additional attribute\n",
        "                             pos (n, emb_dim) containing the top emb_dim eigenvectors\n",
        "        \"\"\"\n",
        "        num_nodes  = data.x.shape[0]\n",
        "\n",
        "        edge_index, edge_weight = get_laplacian(\n",
        "                      data.edge_index,\n",
        "                      normalization='sym',\n",
        "                      num_nodes=num_nodes,\n",
        "                      )\n",
        "\n",
        "        L = to_scipy_sparse_matrix(edge_index, edge_weight, num_nodes)\n",
        "        eig_vals, eig_vecs = eig(L.todense())\n",
        "\n",
        "\n",
        "        eig_vecs = np.real(eig_vecs[:, eig_vals.argsort()])\n",
        "\n",
        "        pe = torch.from_numpy(eig_vecs[:, 1:self.emb_dim + 1])\n",
        "        if pe.shape[1] < self.emb_dim:\n",
        "            pe = torch.cat((pe, torch.zeros(pe.shape[0], self.emb_dim-pe.shape[1])), axis=-1)\n",
        "        sign = -1 + 2 * torch.randint(0, 2, (self.emb_dim, ))\n",
        "        pe *= sign\n",
        "\n",
        "        data.pos = pe\n",
        "        return data"
      ],
      "outputs": [],
      "metadata": {
        "id": "5RMIic2GrARM"
      }
    },
    {
      "cell_type": "code",
      "execution_count": null,
      "source": [
        "tree_dataset, _, _ = DictionaryLookupDataset(3).generate_data(transform=AddLaplacianPETransform(POSEMB_DIM))\n",
        "print(f\"The positional encoding for node 5 is: {tree_dataset[0].pos[5]}\")"
      ],
      "outputs": [],
      "metadata": {
        "id": "OnIC67FOsrjY"
      }
    },
    {
      "cell_type": "markdown",
      "source": [
        "## <font color = orange> 🖋 **Task** Modify the graph neural network model to incorporate the positional encoding, while still using fully connected adjacency matrix </font>\n",
        "\n",
        "> We expect two distinct modification for this task:\n",
        "  1.  same as before, use the rewired connected adjacency matrix as opposed to the original graph topology\n",
        "  2. before any processing, concatenate the additional positional encoding computed above to the initial features."
      ],
      "metadata": {
        "id": "B1ArQV2BG0lS"
      }
    },
    {
      "cell_type": "code",
      "execution_count": null,
      "source": [
        "class GTpygPEModel(Module):\n",
        "    def __init__(self, hidden_dim, num_layers=2):\n",
        "        \"\"\"Graph Transformer Neural Network model using node-level PE\n",
        "\n",
        "        Args:\n",
        "            hidden_dim: (int) - hidden dimension\n",
        "            num_layers: (int) - number of layers\n",
        "        \"\"\"\n",
        "        super(GTpygPEModel, self).__init__()\n",
        "        self.num_layers = num_layers # please select num_layers>=2\n",
        "\n",
        "        self.embed_x = Embedding(28, hidden_dim)\n",
        "\n",
        "        # ============ YOUR CODE HERE ==============\n",
        "        # This is the ORIGINAL code used before. Your task is to MODIFY\n",
        "        # it such that it takes into account the newly added features.\n",
        "        # Hint: What is happening with the input dimension in the first layer?\n",
        "        #\n",
        "        # self.layers = [GTpygLayer(hidden_dim, hidden_dim, hidden_dim)]\n",
        "        # ===========================================\n",
        "\n",
        "        self.layers += [GTpygLayer(hidden_dim, hidden_dim, hidden_dim) for _ in range(num_layers-2)]\n",
        "        self.layers += [GTpygLayer(hidden_dim, 1, hidden_dim)]\n",
        "\n",
        "        self.layers = ModuleList(self.layers)\n",
        "\n",
        "    def forward(self, graph):\n",
        "        \"\"\"\n",
        "        Args:\n",
        "            graph: (PyG.Data) - batch of PyG graphs\n",
        "        Returns:\n",
        "           out: (batch_size,) - scalar prediction for each graph in the batch\n",
        "        \"\"\"\n",
        "        new_x = self.embed_x(graph.x).squeeze(1)\n",
        "\n",
        "        # ============ YOUR CODE HERE ==============\n",
        "        # Concatenate the positional encoding computed in thge transformation\n",
        "        # wit the input features new_x\n",
        "        #\n",
        "        # x = torch.cat((new_x, graph.pos), axis=-1)\n",
        "        # ===========================================\n",
        "\n",
        "        for i in range(self.num_layers-1):\n",
        "          x = self.layers[i](x, graph.rewire_edge_index)\n",
        "          x = F.relu(x)\n",
        "\n",
        "        x = self.layers[-1](x, graph.rewire_edge_index)\n",
        "\n",
        "        out = global_add_pool(x, graph.batch)\n",
        "        out = out.squeeze(-1)\n",
        "        return out"
      ],
      "outputs": [],
      "metadata": {
        "id": "fSjKhPBskD-O"
      }
    },
    {
      "cell_type": "code",
      "execution_count": null,
      "source": [
        "# @title [RUN] Hyperparameters GT\n",
        "\n",
        "NUM_EPOCHS =  50 #@param {type:\"integer\"}\n",
        "LR         = 0.001 #@param {type:\"number\"}\n",
        "HIDDEN_DIM = 64 #@param {type:\"integer\"}\n",
        "NUM_LAYERS = 2 #@param {type:\"integer\"}\n",
        "\n",
        "\n",
        "#you can add more here if you need"
      ],
      "outputs": [],
      "metadata": {
        "id": "i2M4uEtiwkZG"
      }
    },
    {
      "cell_type": "code",
      "execution_count": null,
      "source": [
        "batch_size = 64\n",
        "\n",
        "train_ds = ZINC(root='data/ZINC', split='train', subset=True,  transform=T.Compose([FullyConnectedTransform(), AddLaplacianPETransform(POSEMB_DIM)]))\n",
        "val_ds = ZINC(root='data/ZINC', split='val', subset=True, transform=T.Compose([FullyConnectedTransform(), AddLaplacianPETransform(POSEMB_DIM)]))\n",
        "test_ds = ZINC(root='data/ZINC', split='test', subset=True, transform=T.Compose([FullyConnectedTransform(), AddLaplacianPETransform(POSEMB_DIM)]))\n",
        "\n",
        "train_loader = DataLoader(train_ds, batch_size=batch_size, shuffle=True, drop_last=True)\n",
        "val_loader = DataLoader(val_ds, batch_size=batch_size, shuffle=False)\n",
        "test_loader = DataLoader(test_ds, batch_size=batch_size, shuffle=False)"
      ],
      "outputs": [],
      "metadata": {
        "id": "3opHPfUyUg1B"
      }
    },
    {
      "cell_type": "code",
      "execution_count": null,
      "source": [
        "model_gt_pe = GTpygPEModel(HIDDEN_DIM, num_layers=NUM_LAYERS)\n",
        "stats = run_exp_pyg(model_gt_pe,  train_loader, val_loader, test_loader, loss_fct=F.mse_loss,\n",
        "                    lr=LR, num_epochs=NUM_EPOCHS)"
      ],
      "outputs": [],
      "metadata": {
        "id": "1XV3lDhAUg1C"
      }
    },
    {
      "cell_type": "code",
      "execution_count": null,
      "source": [
        "plot_stats(stats)"
      ],
      "outputs": [],
      "metadata": {
        "id": "hHlUoTyAZ2uK"
      }
    },
    {
      "cell_type": "markdown",
      "source": [
        "If you are familiar with the NLP research, this entire model might look very familiar: we have a set of nodes, that we enriched with positional encoding, and than we exchange information between each pair of two nodes based on a key-value attention mechanism. It is basically a **Transformer architecture** applyed on a sequence of nodes instead of a sequence of word tokens."
      ],
      "metadata": {
        "id": "oMjCto-MuIhA"
      }
    },
    {
      "cell_type": "markdown",
      "source": [
        "## Asolute vs Relative Positional Encoding"
      ],
      "metadata": {
        "id": "f679FnVE7OHR"
      }
    },
    {
      "cell_type": "markdown",
      "source": [
        "Inspired from the NLP community, [two types of positional encoding recently emerges](https://arxiv.org/abs/2402.14202): **<ins>absolute</ins> positional encoding** and **<ins>relative</ins> positional encoding**. The *absolute positional encoding* summarizes the graph structure as node features (as we did above with the laplacian eigenvectors). On the other hand, the *relative positional encoding* represents the graph structure as an embedding of pairs of nodes (i.e. edges). Examples of relative positional encoding include boolean identifiers ($0$ for additional edges and a $1$ for the original topology), [resistance distance](https://arxiv.org/abs/2301.09505) or [shortest-path](https://arxiv.org/pdf/2106.05234)."
      ],
      "metadata": {
        "id": "Vj4AJ7v2wH1g"
      }
    },
    {
      "cell_type": "markdown",
      "source": [
        "## <font color = orange> 🖋 **Task** Implement a transformation to compute the relative positional encoding based on the shortest-path distance.\n",
        "\n",
        "> For each pair of two nodes, the extra feature will be an integer denoting the shortest path between the two nodes. Note that this can only make sense in conjuction with a rewiring transformation, otherwise all the shortest-path distances would be 1.\n",
        "\n"
      ],
      "metadata": {
        "id": "ACopExRjxqjt"
      }
    },
    {
      "cell_type": "code",
      "execution_count": null,
      "source": [
        "class AddRelativePETransform(BaseTransform):\n",
        "    def __init__(self):\n",
        "        super(AddRelativePETransform).__init__()\n",
        "    def __call__(self, data):\n",
        "        \"\"\"\n",
        "        Args:\n",
        "            data (PyG.Data): one instance of PyG graph\n",
        "        Returns:\n",
        "            data (PyG.Data): original graph with an additional attribute\n",
        "                             edge_attr (e,) containing the shortest-path between\n",
        "                             each pair of two nodes connected in the rewired graph\n",
        "        \"\"\"\n",
        "        orig_data = Data(x=data.x, edge_index=data.edge_index)\n",
        "        G = torch_geometric.utils.to_networkx(orig_data).to_undirected()\n",
        "\n",
        "        # ============ YOUR CODE HERE ==============\n",
        "        # For each pair of 2 nodes in  data.rewire_edge_index (2, e),\n",
        "        # compute their shortest path and store it in `edge_attr`: (e,)\n",
        "        # Hint: nx.shortest_path_length can be used to compute the shortest paths\n",
        "        #\n",
        "        # edge_attr = []\n",
        "        # num_edges = data.rewire_edge_index.shape[1]\n",
        "        # for i in range(num_edges):\n",
        "        #\n",
        "        #\n",
        "        #     edge_attr.append(length)\n",
        "        # ===========================================\n",
        "\n",
        "        data.edge_attr = torch.tensor(edge_attr)\n",
        "        return data"
      ],
      "outputs": [],
      "metadata": {
        "id": "bAZuMU54OB5E"
      }
    },
    {
      "cell_type": "code",
      "execution_count": null,
      "source": [
        "tree_dataset, _, _ = DictionaryLookupDataset(3).generate_data(add_self_loops=False, transform=T.Compose([FullyConnectedTransform(), AddRelativePETransform()]))\n",
        "draw_one_graph(plt.axes(), tree_dataset[0].edge_index.numpy(), layout='tree')\n",
        "print(f\"The relative positional encoding for the edge between {tree_dataset[0].rewire_edge_index[0][5]} and {tree_dataset[0].rewire_edge_index[1][5]} is : {tree_dataset[0].edge_attr[5]}\")"
      ],
      "outputs": [],
      "metadata": {
        "id": "Q4EKdEFgyPIa"
      }
    },
    {
      "cell_type": "markdown",
      "source": [
        "## <font color = orange> 🖋 **Task** Modify the GNN Layer below to incorporate the relative positional encoding when computing the attention cofficient.\n",
        "\n",
        "> While there are several ways in which we can do that, for this practical we will implement the following function:\n",
        ">\n",
        "> \\begin{align}\n",
        "f_{msg}(x_i, x_j)=\\sigma(k(x_i)^Tq(x_j) \\color{red}+\\color{red}r_\\color{red}{ij})v(x_j)\n",
        "\\end{align}\n",
        ">\n",
        "> where $\\sigma$ is the softmax non-linearity and $r_{ij}$ is the relative positional encoding (the shortest-path between $i$ and $j$ in our case)."
      ],
      "metadata": {
        "id": "jpnSoLa00Xrz"
      }
    },
    {
      "cell_type": "code",
      "execution_count": null,
      "source": [
        "class GTpygRPeLayer(MessagePassing):\n",
        "    def __init__(self, in_dim, out_dim, hid_dim):\n",
        "        \"\"\"Sparse Graph Transformer Layer implemented using Pytorch Geometric\n",
        "\n",
        "        Args:\n",
        "            in_dim: (int) - input dimension for node features\n",
        "            out_dim: (int) - output dimension\n",
        "            hid_dim: (int) - hidden dimension\n",
        "            aggr: (int) - the type of aggregation used in the message passing\n",
        "        \"\"\"\n",
        "        super().__init__(node_dim=0, aggr='add')\n",
        "        self.in_dim = in_dim\n",
        "        self.out_dim = out_dim\n",
        "\n",
        "        # ============ YOUR CODE HERE ==============\n",
        "        # Add new layers to compute the three linear projections\n",
        "        # these should be the same as before\n",
        "        # x_i -> q(x_i); x_j -> k(x_i); x_j -> v(x_i)\n",
        "        #\n",
        "        # self.lin_q = ...\n",
        "        # self.lin_k = ...\n",
        "        # self.lin_v = ...\n",
        "        # ===========================================\n",
        "\n",
        "        # convert the scalar denoting shortest-path into an embedding\n",
        "        # maximum shortest path is set to 23.\n",
        "        self.lin_attr = Embedding(23, 1)\n",
        "\n",
        "    def forward(self, x, edge_index, edge_attr):\n",
        "        \"\"\"\n",
        "        Args:\n",
        "            x: (n, in_dim) - initial node features\n",
        "            edge_index: (2, e) - list of edges as a tuple\n",
        "            edge_attr: (e, ) - relative positional encoding\n",
        "\n",
        "        Returns:\n",
        "            out: (n, out_dim) - updated node features\n",
        "        \"\"\"\n",
        "        out = self.propagate(edge_index, x=x, edge_attr=edge_attr)\n",
        "        return out\n",
        "\n",
        "\n",
        "    def message(self, x_i, x_j, edge_index_j, edge_attr):\n",
        "        \"\"\"\n",
        "        Args:\n",
        "            x_i: (e, in_dim) - features corresponding to destination nodes\n",
        "            x_j: (e, in_dim) - features corresponding to source nodes\n",
        "            index: (e, d_e) - node index used to guide the softmax computation\n",
        "            size_i - number of destination nodes\n",
        "            edge_attr: (e,)\n",
        "\n",
        "        Returns:\n",
        "            out: (n, out_dim) - updated node features\n",
        "        \"\"\"\n",
        "\n",
        "        # ============ YOUR CODE HERE ==============\n",
        "        # Compute the message function from the equation above\n",
        "        # Hint: some of the code should be similar to the one that\n",
        "        # your wrote for the GTpygLayer.\n",
        "        #\n",
        "        # alpha = ...\n",
        "        # alpha = softmax(alpha, edge_index_j)\n",
        "        # out = ...\n",
        "        # ===========================================\n",
        "\n",
        "        return out"
      ],
      "outputs": [],
      "metadata": {
        "id": "YuQfwbGYaN1v"
      }
    },
    {
      "cell_type": "markdown",
      "source": [
        "The model class is the same as before, but using the extra argument for edge_attribute."
      ],
      "metadata": {
        "id": "tLAGlQ9p1nGJ"
      }
    },
    {
      "cell_type": "code",
      "execution_count": null,
      "source": [
        "class GTpygRPeModel(Module):\n",
        "    def __init__(self, hidden_dim, num_layers=2):\n",
        "        \"\"\"\n",
        "        Graph Transformer Neural Network model using rewiring and\n",
        "        relative positional encoding\n",
        "\n",
        "        Args:\n",
        "            hidden_dim: (int) - hidden dimension\n",
        "            num_layers: (int) - number of GT layers used in the model\n",
        "        \"\"\"\n",
        "        super(GTpygRPeModel, self).__init__()\n",
        "        self.num_layers = num_layers\n",
        "\n",
        "        self.embed_x = Embedding(28, hidden_dim)\n",
        "\n",
        "        self.layers = [GTpygRPeLayer(hidden_dim, hidden_dim, hidden_dim) for _ in range(num_layers-1)]\n",
        "        self.layers += [GTpygRPeLayer(hidden_dim, 1, hidden_dim)]\n",
        "\n",
        "        self.layers = ModuleList(self.layers)\n",
        "\n",
        "    def forward(self, graph):\n",
        "        \"\"\"\n",
        "        Args:\n",
        "            graph: (PyG.Data) - batch of PyG graphs\n",
        "        Returns:\n",
        "            out: (batch_size,) - scalar prediction for each graph in the batch\n",
        "        \"\"\"\n",
        "\n",
        "        new_x = self.embed_x(graph.x).squeeze(1)\n",
        "        x = new_x\n",
        "        for i in range(self.num_layers-1):\n",
        "          x = self.layers[i](x, graph.rewire_edge_index, graph.edge_attr)\n",
        "          x = F.relu(x)\n",
        "\n",
        "        x = self.layers[-1](x, graph.rewire_edge_index, graph.edge_attr)\n",
        "\n",
        "        out = global_add_pool(x, graph.batch)\n",
        "        out = out.squeeze(-1)\n",
        "        return out"
      ],
      "outputs": [],
      "metadata": {
        "id": "3vX3k0-RdXaA"
      }
    },
    {
      "cell_type": "markdown",
      "source": [
        "Lets train the model once again, this time using the relative positional encoding.\n",
        "\n",
        "❗️Note that the training of the `GTpygRPeModel` is quite slow 🐢. For the purpose of this tutorial, it is enough to test that it runs for a couple of iterations. If you want to see results and colab's credit is not enough we suggest moving the training to a local machine."
      ],
      "metadata": {
        "id": "rToIjzKu1y0Q"
      }
    },
    {
      "cell_type": "code",
      "execution_count": null,
      "source": [
        "# @title [RUN] Hyperparameters GT with relative PE\n",
        "\n",
        "NUM_EPOCHS =  50 #@param {type:\"integer\"}\n",
        "LR         = 0.001 #@param {type:\"number\"}\n",
        "HIDDEN_DIM = 64 #@param {type:\"integer\"}\n",
        "NUM_LAYERS = 2 #@param {type:\"integer\"}\n",
        "\n",
        "\n",
        "#you can add more here if you need"
      ],
      "outputs": [],
      "metadata": {
        "cellView": "form",
        "id": "3VC3mh3uaKe_"
      }
    },
    {
      "cell_type": "code",
      "execution_count": null,
      "source": [
        "batch_size = 64\n",
        "\n",
        "train_ds = ZINC(root='data/ZINC', split='train', subset=True, transform=T.Compose([FullyConnectedTransform(), AddRelativePETransform()]))\n",
        "val_ds = ZINC(root='data/ZINC', split='val', subset=True, transform=T.Compose([FullyConnectedTransform(), AddRelativePETransform()]))\n",
        "test_ds = ZINC(root='data/ZINC', split='test', subset=True, transform=T.Compose([FullyConnectedTransform(), AddRelativePETransform()]))\n",
        "\n",
        "train_loader = DataLoader(train_ds, batch_size=batch_size, shuffle=True, drop_last=True)\n",
        "val_loader = DataLoader(val_ds, batch_size=batch_size, shuffle=False)\n",
        "test_loader = DataLoader(test_ds, batch_size=batch_size, shuffle=False)"
      ],
      "outputs": [],
      "metadata": {
        "id": "uVPGsXqGyE5v"
      }
    },
    {
      "cell_type": "code",
      "execution_count": null,
      "source": [
        "model_gt_rpe = GTpygRPeModel(HIDDEN_DIM, num_layers=NUM_LAYERS)\n",
        "stats = run_exp_pyg(model_gt_rpe, train_loader, val_loader, test_loader, loss_fct=F.mse_loss,\n",
        "                    lr=LR, num_epochs=NUM_EPOCHS)"
      ],
      "outputs": [],
      "metadata": {
        "id": "w28zbovgyE5w"
      }
    },
    {
      "cell_type": "code",
      "execution_count": null,
      "source": [
        "plot_stats(stats)"
      ],
      "outputs": [],
      "metadata": {
        "id": "bYrr3-IbQc12"
      }
    },
    {
      "cell_type": "markdown",
      "source": [
        "💡 Positional encoding is not the only way to preserve the original topology when using rewiring techniques. One possible solutions is to alternate between layers of message passing on the original graph and layers of message passing on the rewired graph. Feel free to experiment more with this."
      ],
      "metadata": {
        "id": "8Pvu2WXbsTWz"
      }
    },
    {
      "cell_type": "markdown",
      "source": [
        "🏆 Well done!! You arrived at the end of this tutorial. We hope that you are now familiar with working with graph data and you were developing a good intuition about the cause and solutions for some of the hard problems in graph community. If you have any queries or feedback don't hesitate to contact us!"
      ],
      "metadata": {
        "id": "nIjsnIDKp1-W"
      }
    },
    {
      "cell_type": "markdown",
      "source": [
        "<a name=\"references\"></a>\n",
        "# 🍫 Want to learn more?"
      ],
      "metadata": {
        "id": "kGs9slSTThj8"
      }
    },
    {
      "cell_type": "markdown",
      "source": [
        "If you are interested in finding more about these topics, here is a selection of papers that you might find useful:\n",
        "\n",
        "⚫ [On the Bottleneck of Graph Neural Networks and its Practical Implications](https://arxiv.org/abs/2006.05205) \\\\\n",
        "🟢 [Expander graph propagation](https://arxiv.org/abs/2210.02997) \\\\\n",
        "🟣 [Drew: Dynamically rewired message passing with delay](https://arxiv.org/abs/2305.08018) \\\\\n",
        "🔵 [On Over-Squashing in Message Passing Neural Networks: The Impact of Width, Depth, and Topology](https://arxiv.org/abs/2302.02941) \\\\\n",
        "🟡 [Understanding over-squashing and bottlenecks on graphs via curvature](https://arxiv.org/abs/2111.14522) \\\\\n",
        "🟠 [Probabilistically Rewired Message-Passing Neural Networks](https://arxiv.org/abs/2310.02156) \\\\\n",
        "🔴 [Graph Neural Networks with Learnable Structural and Positional Representations](https://arxiv.org/abs/2110.07875) \\\\\n",
        "🟤 [A Generalization of Transformer Networks to Graph](https://arxiv.org/abs/2012.09699)"
      ],
      "metadata": {
        "id": "sngoJa0QF16i"
      }
    }
  ],
  "metadata": {
    "accelerator": "GPU",
    "colab": {
      "gpuType": "T4",
      "provenance": [],
      "collapsed_sections": [
        "lKxFuNjpAeVz",
        "VMOleceFNqEZ"
      ]
    },
    "kernelspec": {
      "display_name": "Python 3",
      "name": "python3"
    },
    "language_info": {
      "name": "python"
    }
  },
  "nbformat": 4,
  "nbformat_minor": 0
}